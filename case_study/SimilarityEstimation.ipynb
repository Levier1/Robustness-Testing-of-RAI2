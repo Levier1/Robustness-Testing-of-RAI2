{
 "cells": [
  {
   "cell_type": "code",
   "execution_count": 1,
   "id": "duplicate-friday",
   "metadata": {},
   "outputs": [],
   "source": [
    "import os\n",
    "import torch\n",
    "from torchvision import transforms, models\n",
    "import torch.nn as nn\n",
    "import torch.nn.functional as F\n",
    "from tqdm import tqdm\n",
    "import numpy as np\n",
    "np.random.seed(0)\n",
    "import pandas as pd\n",
    "import matplotlib.pyplot as plt\n",
    "import scipy.stats as sps\n",
    "from matplotlib.patches import Rectangle\n",
    "import seaborn as sns\n",
    "import pickle\n",
    "import sys\n",
    "sys.path.append(\"../\")\n",
    "from conf import settings\n",
    "import utils\n",
    "from sklearn.metrics import accuracy_score\n",
    "\n",
    "import warnings\n",
    "warnings.filterwarnings('ignore')\n",
    "target_s_list = [0.0, 0.2, 0.4, 0.6, 0.8, 1.0]"
   ]
  },
  {
   "cell_type": "markdown",
   "id": "6940b6e0-10d8-495a-9e96-722d0acb090f",
   "metadata": {},
   "source": [
    "# Estimation Accuracy for Dataset Similarity "
   ]
  },
  {
   "cell_type": "code",
   "execution_count": 2,
   "id": "viral-restriction",
   "metadata": {},
   "outputs": [],
   "source": [
    "similarity_outputs = pickle.load(open(os.path.join(settings.CASE_STUDY_RESULT_PATH, \"dataset_similarity\", \"same_dist.pkl\"), \"rb\"))\n",
    "mix_outputs = pickle.load(open(os.path.join(settings.CASE_STUDY_RESULT_PATH, \"dataset_similarity\", \"diff_dist.pkl\"), \"rb\"))\n",
    "shard_outputs = pickle.load(open(os.path.join(settings.CASE_STUDY_RESULT_PATH, \"dataset_similarity\", \"same_dist_shards.pkl\"), \"rb\"))\n",
    "low_epoch_outputs = pickle.load(open(os.path.join(settings.CASE_STUDY_RESULT_PATH, \"dataset_similarity\", \"low_epoch.pkl\"), \"rb\"))\n",
    "gauss_outputs = pickle.load(open(os.path.join(settings.CASE_STUDY_RESULT_PATH, \"dataset_similarity\", \"gauss.pkl\"), \"rb\"))\n",
    "color_outputs = pickle.load(open(os.path.join(settings.CASE_STUDY_RESULT_PATH, \"dataset_similarity\", \"color.pkl\"), \"rb\"))\n",
    "gauss_color_outputs = pickle.load(open(os.path.join(settings.CASE_STUDY_RESULT_PATH, \"dataset_similarity\", \"gauss_color.pkl\"), \"rb\"))"
   ]
  },
  {
   "cell_type": "markdown",
   "id": "4e19d838-7b5d-49fe-a9dd-cb54ee189e1c",
   "metadata": {},
   "source": [
    "## Output distance - dataset similarity $s$ plot"
   ]
  },
  {
   "cell_type": "code",
   "execution_count": 3,
   "id": "parental-visitor",
   "metadata": {},
   "outputs": [],
   "source": [
    "# vic_mean = similarity_outputs['int1.0'].mean(dim=0)\n",
    "df_dict = {'$s^d$': [], 'ModelID': [], 'Output Distance':[], 'Distance Type':[]}\n",
    "\n",
    "for s in target_s_list:\n",
    "    key = f'int{s}'\n",
    "    for k, v in enumerate(similarity_outputs[key]):\n",
    "        diff = torch.sum((v - similarity_outputs['vic'][k])**2, dim=1).reshape(-1)\n",
    "        df_dict['$s^d$'].extend([s] * len(diff))\n",
    "        df_dict['ModelID'].extend([k] * len(diff))\n",
    "        df_dict['Output Distance'].extend(diff.tolist())\n",
    "        df_dict['Distance Type'].extend(['Lookup Table'] * len(diff))\n",
    "    for k, v in enumerate(shard_outputs[key]):\n",
    "        diff = torch.sum((v - similarity_outputs['vic'][k])**2, dim=1).reshape(-1)\n",
    "        df_dict['$s^d$'].extend([s] * len(diff))\n",
    "        df_dict['ModelID'].extend([k] * len(diff))\n",
    "        df_dict['Output Distance'].extend(diff.tolist())\n",
    "        df_dict['Distance Type'].extend(['Heuristic'] * len(diff))\n",
    "    for k, v in enumerate(mix_outputs[key]):\n",
    "        diff = torch.sum((v - similarity_outputs['vic'][k])**2, dim=1).reshape(-1)\n",
    "        df_dict['$s^d$'].extend([s] * len(diff))\n",
    "        df_dict['ModelID'].extend([k] * len(diff))\n",
    "        df_dict['Output Distance'].extend(diff.tolist())\n",
    "        df_dict['Distance Type'].extend(['Adversary'] * len(diff))\n",
    "    \n",
    "df_basic = pd.DataFrame.from_dict(df_dict)"
   ]
  },
  {
   "cell_type": "markdown",
   "id": "permanent-corporation",
   "metadata": {},
   "source": [
    "### Case: Low Epoch (adversary's epoch = 60)"
   ]
  },
  {
   "cell_type": "code",
   "execution_count": 4,
   "id": "radio-mother",
   "metadata": {},
   "outputs": [],
   "source": [
    "# vic_mean = similarity_outputs['int1.0'].mean(dim=0)\n",
    "df_dict = {'$s^d$': [], 'ModelID': [], 'Output Distance':[], 'Distance Type':[]}\n",
    "\n",
    "for s in [0.0, 0.2, 0.4, 0.6, 0.8, 1.0]:\n",
    "    key = f'int{s}'\n",
    "    for k, v in enumerate(similarity_outputs[key]):\n",
    "        diff = torch.sum((v - similarity_outputs['vic'][k])**2, dim=1).reshape(-1)\n",
    "        df_dict['$s^d$'].extend([s] * len(diff))\n",
    "        df_dict['ModelID'].extend([k] * len(diff))\n",
    "        df_dict['Output Distance'].extend(diff.tolist())\n",
    "        df_dict['Distance Type'].extend(['Victim'] * len(diff))\n",
    "    for k, v in enumerate(shard_outputs[key]):\n",
    "        diff = torch.sum((v - similarity_outputs['vic'][k])**2, dim=1).reshape(-1)\n",
    "        df_dict['$s^d$'].extend([s] * len(diff))\n",
    "        df_dict['ModelID'].extend([k] * len(diff))\n",
    "        df_dict['Output Distance'].extend(diff.tolist())\n",
    "        df_dict['Distance Type'].extend(['Heuristic'] * len(diff))\n",
    "    for k, v in enumerate(low_epoch_outputs[key]):\n",
    "        diff = torch.sum((v - similarity_outputs['vic'][k])**2, dim=1).reshape(-1)\n",
    "        df_dict['$s^d$'].extend([s] * len(diff))\n",
    "        df_dict['ModelID'].extend([k] * len(diff))\n",
    "        df_dict['Output Distance'].extend(diff.tolist())\n",
    "        df_dict['Distance Type'].extend(['Fewer Epoch'] * len(diff))\n",
    "df_low_epoch = pd.DataFrame.from_dict(df_dict)"
   ]
  },
  {
   "cell_type": "markdown",
   "id": "stuck-baking",
   "metadata": {},
   "source": [
    "### Case: Adaptive transformation with gaussian blur and color jitter"
   ]
  },
  {
   "cell_type": "code",
   "execution_count": 5,
   "id": "downtown-stopping",
   "metadata": {},
   "outputs": [],
   "source": [
    "# vic_mean = similarity_outputs['int1.0'].mean(dim=0)\n",
    "df_dict = {'$s^d$': [], 'ModelID': [], 'Output Distance':[], 'Distance Type':[]}\n",
    "\n",
    "for s in [0.0, 0.2, 0.4, 0.6, 0.8, 1.0]:\n",
    "    key = f'int{s}'\n",
    "    for k, v in enumerate(gauss_outputs[key]):\n",
    "        diff = torch.sum((v - similarity_outputs['vic'][k])**2, dim=1).reshape(-1)\n",
    "        df_dict['$s^d$'].extend([s] * len(diff))\n",
    "        df_dict['ModelID'].extend([k] * len(diff))\n",
    "        df_dict['Output Distance'].extend(diff.tolist())\n",
    "        df_dict['Distance Type'].extend(['Gauss'] * len(diff))\n",
    "    for k, v in enumerate(color_outputs[key]):\n",
    "        diff = torch.sum((v - similarity_outputs['vic'][k])**2, dim=1).reshape(-1)\n",
    "        df_dict['$s^d$'].extend([s] * len(diff))\n",
    "        df_dict['ModelID'].extend([k] * len(diff))\n",
    "        df_dict['Output Distance'].extend(diff.tolist())\n",
    "        df_dict['Distance Type'].extend(['Color'] * len(diff))\n",
    "    for k, v in enumerate(gauss_color_outputs[key]):\n",
    "        diff = torch.sum((v - similarity_outputs['vic'][k])**2, dim=1).reshape(-1)\n",
    "        df_dict['$s^d$'].extend([s] * len(diff))\n",
    "        df_dict['ModelID'].extend([k] * len(diff))\n",
    "        df_dict['Output Distance'].extend(diff.tolist())\n",
    "        df_dict['Distance Type'].extend(['Gauss-Color'] * len(diff))\n",
    "df_adaptive = pd.DataFrame.from_dict(df_dict)"
   ]
  },
  {
   "cell_type": "code",
   "execution_count": 6,
   "id": "balanced-cement",
   "metadata": {},
   "outputs": [
    {
     "data": {
      "image/png": "[encoded data removed]",
      "text/plain": [
       "<Figure size 900x300 with 3 Axes>"
      ]
     },
     "metadata": {},
     "output_type": "display_data"
    }
   ],
   "source": [
    "fig, (ax1, ax2, ax3) = plt.subplots(nrows=1, ncols=3, sharey=True)\n",
    "fig.set_size_inches(9, 3)\n",
    "sns.set_theme(style=\"darkgrid\")\n",
    "\n",
    "sns.lineplot(x='$s^d$', y='Output Distance', style='Distance Type', data=df_basic, ax=ax1)\n",
    "ax1.set_title(\"(a) Validating heuristic.\")\n",
    "ax1.set_xticks([0.0, 0.2, 0.4, 0.6, 0.8, 1.0])\n",
    "ax1.legend()\n",
    "\n",
    "sns.lineplot(x='$s^d$', y='Output Distance', style='Distance Type', data=df_low_epoch, ax=ax2)\n",
    "# ax2.set_ylabel(\"\")\n",
    "ax2.set_title(\"(b) Impact of fewer epochs.\")\n",
    "ax2.set_xticks([0.0, 0.2, 0.4, 0.6, 0.8, 1.0])\n",
    "ax2.legend()\n",
    "\n",
    "sns.lineplot(x='$s^d$', y='Output Distance', style='Distance Type', data=df_adaptive, ax=ax3)\n",
    "# ax2.set_ylabel(\"\")\n",
    "ax3.set_title(\"(c) Impact of adaptive mia.\")\n",
    "ax3.set_xticks([0.0, 0.2, 0.4, 0.6, 0.8, 1.0])\n",
    "ax3.legend()\n",
    "\n",
    "plt.tight_layout()\n",
    "# plt.savefig('figures/case_study_model_distance.pdf', bbox_inches='tight')\n",
    "plt.show()"
   ]
  },
  {
   "cell_type": "code",
   "execution_count": null,
   "id": "suburban-purse",
   "metadata": {},
   "outputs": [],
   "source": []
  },
  {
   "cell_type": "markdown",
   "id": "weighted-commander",
   "metadata": {},
   "source": [
    "## Compute $\\mu$, $\\epsilon$"
   ]
  },
  {
   "cell_type": "code",
   "execution_count": 7,
   "id": "b815cfeb-1d1a-4035-9beb-390398d22aa2",
   "metadata": {},
   "outputs": [],
   "source": [
    "def estimation_accuracy(surrogate_outputs, query_outputs, test_s_list, true_s_list, copy_num=10):\n",
    "    test_inter_list = ['int{}'.format(i) for i in test_s_list]\n",
    "    true_inter_list = ['int{}'.format(i) for i in true_s_list]\n",
    "    all_diff = []\n",
    "    \n",
    "    for k in range(copy_num):\n",
    "        for i, key_true in enumerate(true_inter_list):\n",
    "            tmp = np.zeros((len(test_inter_list), ))\n",
    "            # print(k, key_true, \"*\")\n",
    "            for j, key_test in enumerate(test_inter_list):\n",
    "                dist_mean = torch.sum((query_outputs[key_true][k] - surrogate_outputs['vic'][k])**2, dim=1).cpu().numpy()\n",
    "                dist_test = torch.sum((surrogate_outputs[key_test][k] - surrogate_outputs['vic'][k])**2, dim=1).cpu().numpy()\n",
    "                stats, pv = sps.ttest_ind(dist_mean, dist_test)\n",
    "                tmp[j] = np.abs(stats)\n",
    "\n",
    "            pred_s = test_s_list[tmp.argmin(axis=0).item()]\n",
    "            true_s = true_s_list[i]\n",
    "            \n",
    "            all_diff.append(np.round(np.abs(pred_s - true_s), 2))\n",
    "            # if all_diff[-1] > 0:\n",
    "                \n",
    "                # print(true_s, pred_s)\n",
    "\n",
    "    all_diff = np.array(all_diff)\n",
    "    mu_epsilon_summary = {}\n",
    "    for mu in [0.1, 0.2, 0.3, 0.4, 0.5, 0.6, 0.7, 0.8, 0.9]:\n",
    "        mu_epsilon_summary[mu] = len(np.where(all_diff >= mu)[0]) / len(all_diff)\n",
    "    return mu_epsilon_summary, all_diff\n",
    " "
   ]
  },
  {
   "cell_type": "code",
   "execution_count": 8,
   "id": "e0d4d05e-2fff-4bd8-b136-ebd2071a1bf7",
   "metadata": {},
   "outputs": [
    {
     "name": "stdout",
     "output_type": "stream",
     "text": [
      "{0.1: 0.1, 0.2: 0.1, 0.3: 0.0, 0.4: 0.0, 0.5: 0.0, 0.6: 0.0, 0.7: 0.0, 0.8: 0.0, 0.9: 0.0}\n"
     ]
    }
   ],
   "source": [
    "mu_epsilon_summary, all_diff = estimation_accuracy(similarity_outputs, mix_outputs, target_s_list, target_s_list, 10)\n",
    "print(mu_epsilon_summary)"
   ]
  },
  {
   "cell_type": "code",
   "execution_count": 9,
   "id": "86fb7fea-9ef9-4350-a76e-26e7f571a638",
   "metadata": {},
   "outputs": [
    {
     "name": "stdout",
     "output_type": "stream",
     "text": [
      "{0.1: 0.2, 0.2: 0.2, 0.3: 0.0, 0.4: 0.0, 0.5: 0.0, 0.6: 0.0, 0.7: 0.0, 0.8: 0.0, 0.9: 0.0}\n"
     ]
    }
   ],
   "source": [
    "mu_epsilon_summary, all_diff = estimation_accuracy(similarity_outputs, low_epoch_outputs, target_s_list, target_s_list, 5)\n",
    "print(mu_epsilon_summary)"
   ]
  },
  {
   "cell_type": "code",
   "execution_count": 10,
   "id": "d38498dd-8cc9-4c4a-9841-2c69017eb6b5",
   "metadata": {},
   "outputs": [
    {
     "name": "stdout",
     "output_type": "stream",
     "text": [
      "{0.1: 0.1, 0.2: 0.1, 0.3: 0.0, 0.4: 0.0, 0.5: 0.0, 0.6: 0.0, 0.7: 0.0, 0.8: 0.0, 0.9: 0.0}\n"
     ]
    }
   ],
   "source": [
    "mu_epsilon_summary, all_diff = estimation_accuracy(similarity_outputs, color_outputs, target_s_list, target_s_list, 5)\n",
    "print(mu_epsilon_summary)"
   ]
  },
  {
   "cell_type": "code",
   "execution_count": 11,
   "id": "94889ef5-e99c-42dc-b1ec-10ee588c2c6c",
   "metadata": {},
   "outputs": [
    {
     "name": "stdout",
     "output_type": "stream",
     "text": [
      "{0.1: 0.16666666666666666, 0.2: 0.16666666666666666, 0.3: 0.0, 0.4: 0.0, 0.5: 0.0, 0.6: 0.0, 0.7: 0.0, 0.8: 0.0, 0.9: 0.0}\n"
     ]
    }
   ],
   "source": [
    "mu_epsilon_summary, all_diff = estimation_accuracy(similarity_outputs, gauss_outputs, target_s_list, target_s_list, 5)\n",
    "print(mu_epsilon_summary)"
   ]
  },
  {
   "cell_type": "code",
   "execution_count": 12,
   "id": "46f144ef-8a4f-4ba2-a8d5-c513e9cdcaf8",
   "metadata": {},
   "outputs": [
    {
     "name": "stdout",
     "output_type": "stream",
     "text": [
      "{0.1: 0.2, 0.2: 0.2, 0.3: 0.0, 0.4: 0.0, 0.5: 0.0, 0.6: 0.0, 0.7: 0.0, 0.8: 0.0, 0.9: 0.0}\n"
     ]
    }
   ],
   "source": [
    "mu_epsilon_summary, all_diff = estimation_accuracy(similarity_outputs, gauss_color_outputs, target_s_list, target_s_list, 5)\n",
    "print(mu_epsilon_summary)"
   ]
  },
  {
   "cell_type": "code",
   "execution_count": null,
   "id": "4bc7e602-6cb1-437c-a671-8e324c737026",
   "metadata": {},
   "outputs": [],
   "source": []
  },
  {
   "cell_type": "markdown",
   "id": "5047e21b-b97c-4003-b40b-1850e8578f40",
   "metadata": {},
   "source": [
    "### Case: Smaller adversary dataset\n"
   ]
  },
  {
   "cell_type": "markdown",
   "id": "a0f5aa29-d1ef-4427-ba3e-82ede6dbad35",
   "metadata": {
    "jp-MarkdownHeadingCollapsed": true,
    "tags": []
   },
   "source": [
    "$|\\mathcal{S}_\\mathcal{A}|/|\\mathcal{S}_\\mathcal{V}|= 0.5$"
   ]
  },
  {
   "cell_type": "code",
   "execution_count": 13,
   "id": "decreased-patrol",
   "metadata": {
    "scrolled": true,
    "tags": []
   },
   "outputs": [
    {
     "name": "stdout",
     "output_type": "stream",
     "text": [
      "{0.1: 0.8, 0.2: 0.36666666666666664, 0.3: 0.03333333333333333, 0.4: 0.016666666666666666, 0.5: 0.0, 0.6: 0.0, 0.7: 0.0, 0.8: 0.0, 0.9: 0.0}\n"
     ]
    }
   ],
   "source": [
    "small_adv_dst2_outputs = pickle.load(open(os.path.join(settings.CASE_STUDY_RESULT_PATH, \"dataset_similarity\", \"small_adv_dst2.pkl\"), \"rb\"))\n",
    "mu_epsilon_summary, all_diff = estimation_accuracy(similarity_outputs, small_adv_dst2_outputs, [0.0, 0.1, 0.2, 0.3, 0.4, 0.5, 0.6, 0.7, 0.8, 0.9, 1.0], [0.0, 0.1, 0.2, 0.3, 0.4, 0.5], 10)\n",
    "print(mu_epsilon_summary)"
   ]
  },
  {
   "cell_type": "markdown",
   "id": "183d81b0-92d2-4921-a0b3-57e3ced1fcb1",
   "metadata": {
    "jp-MarkdownHeadingCollapsed": true,
    "tags": []
   },
   "source": [
    "$|\\mathcal{S}_\\mathcal{A}|/|\\mathcal{S}_\\mathcal{V}|= 0.1$"
   ]
  },
  {
   "cell_type": "code",
   "execution_count": 14,
   "id": "corporate-chemical",
   "metadata": {},
   "outputs": [
    {
     "name": "stdout",
     "output_type": "stream",
     "text": [
      "{0.1: 0.55, 0.2: 0.05, 0.3: 0.0, 0.4: 0.0, 0.5: 0.0, 0.6: 0.0, 0.7: 0.0, 0.8: 0.0, 0.9: 0.0}\n"
     ]
    }
   ],
   "source": [
    "small_adv_dst10_outputs = pickle.load(open(os.path.join(settings.CASE_STUDY_RESULT_PATH, \"dataset_similarity\", \"small_adv_dst10.pkl\"), \"rb\"))\n",
    "mu_epsilon_summary, all_diff = estimation_accuracy(similarity_outputs, small_adv_dst10_outputs, [0.0, 0.1, 0.2, 0.3, 0.4, 0.5, 0.6, 0.7, 0.8, 0.9, 1.0], [0.0, 0.1], 10)\n",
    "print(mu_epsilon_summary)"
   ]
  },
  {
   "cell_type": "markdown",
   "id": "9b735c24-13e8-4afe-bb21-5348e9d2d4e7",
   "metadata": {},
   "source": [
    "### Case: Larger adversary dataset"
   ]
  },
  {
   "cell_type": "markdown",
   "id": "10f616ee-4943-4c50-869f-ead4fd418a2b",
   "metadata": {},
   "source": [
    "$|\\mathcal{S}_\\mathcal{A}|/|\\mathcal{S}_\\mathcal{V}|= 2$"
   ]
  },
  {
   "cell_type": "code",
   "execution_count": 15,
   "id": "mineral-artist",
   "metadata": {},
   "outputs": [
    {
     "name": "stdout",
     "output_type": "stream",
     "text": [
      "{0.1: 0.05, 0.2: 0.05, 0.3: 0.0, 0.4: 0.0, 0.5: 0.0, 0.6: 0.0, 0.7: 0.0, 0.8: 0.0, 0.9: 0.0}\n"
     ]
    }
   ],
   "source": [
    "large_sur_dst2_outputs = pickle.load(open(os.path.join(settings.CASE_STUDY_RESULT_PATH, \"dataset_similarity\", \"large_adv_dst_same_dist2.pkl\"), \"rb\"))\n",
    "large_adv_dst2_outputs = pickle.load(open(os.path.join(settings.CASE_STUDY_RESULT_PATH, \"dataset_similarity\", \"large_adv_dst_diff_dist2.pkl\"), \"rb\"))\n",
    "mu_epsilon_summary, all_diff = estimation_accuracy(large_sur_dst2_outputs, large_adv_dst2_outputs, [0.0, 0.2, 0.4, 0.6, 0.8, 1.0], [0.0, 0.2, 0.4, 0.6, 0.8, 1.0], 10)\n",
    "print(mu_epsilon_summary)"
   ]
  },
  {
   "cell_type": "markdown",
   "id": "593674c0-2a3d-4209-b618-dae2c036922e",
   "metadata": {},
   "source": [
    "$|\\mathcal{S}_\\mathcal{A}|/|\\mathcal{S}_\\mathcal{V}|= 10$"
   ]
  },
  {
   "cell_type": "code",
   "execution_count": 16,
   "id": "resident-sharp",
   "metadata": {},
   "outputs": [
    {
     "name": "stdout",
     "output_type": "stream",
     "text": [
      "{0.1: 0.5833333333333334, 0.2: 0.5833333333333334, 0.3: 0.03333333333333333, 0.4: 0.03333333333333333, 0.5: 0.016666666666666666, 0.6: 0.016666666666666666, 0.7: 0.016666666666666666, 0.8: 0.016666666666666666, 0.9: 0.0}\n"
     ]
    }
   ],
   "source": [
    "large_sur_dst10_outputs = pickle.load(open(os.path.join(settings.CASE_STUDY_RESULT_PATH, \"dataset_similarity\", \"large_adv_dst_same_dist10.pkl\"), \"rb\"))\n",
    "large_adv_dst10_outputs = pickle.load(open(os.path.join(settings.CASE_STUDY_RESULT_PATH, \"dataset_similarity\", \"large_adv_dst_diff_dist10.pkl\"), \"rb\"))\n",
    "\n",
    "# large_sur_dst10_outputs = pickle.load(open(os.path.join(settings.CASE_STUDY_RESULT_PATH, \"dataset_similarity0\", \"small_set10_similarity.pkl\"), \"rb\"))\n",
    "# large_sur_dst10_outputs['vic'] = large_sur_dst10_outputs['int1.0']\n",
    "# large_adv_dst10_outputs = pickle.load(open(os.path.join(settings.CASE_STUDY_RESULT_PATH, \"dataset_similarity0\", \"small_set10_utk_mix.pkl\"), \"rb\"))\n",
    "mu_epsilon_summary, all_diff = estimation_accuracy(large_sur_dst10_outputs, large_adv_dst10_outputs, [0.0, 0.2, 0.4, 0.6, 0.8, 1.0], [0.0, 0.2, 0.4, 0.6, 0.8, 1.0], 10)\n",
    "print(mu_epsilon_summary)"
   ]
  },
  {
   "cell_type": "code",
   "execution_count": null,
   "id": "successful-rebound",
   "metadata": {},
   "outputs": [],
   "source": []
  },
  {
   "cell_type": "markdown",
   "id": "ce9d911b-dc1b-4776-80eb-5a6733a467e0",
   "metadata": {},
   "source": [
    "# MIA as Baseline \n"
   ]
  },
  {
   "cell_type": "code",
   "execution_count": 17,
   "id": "single-enlargement",
   "metadata": {},
   "outputs": [],
   "source": [
    "import mia\n",
    "from sklearn.metrics import accuracy_score\n",
    "from similarity_facial_predict import verification_set, process\n",
    "target_s_array = np.array(target_s_list)"
   ]
  },
  {
   "cell_type": "code",
   "execution_count": 18,
   "id": "tight-outreach",
   "metadata": {},
   "outputs": [],
   "source": [
    "mc_n_sample = 100\n",
    "dst_ratio =1\n",
    "select_idx, verify_tensor, num_classes, verify_label = verification_set(mc_n_sample, dst_ratio)\n",
    "mean_std_dict = process(\"same_dist\", dst_ratio)\n",
    "\n",
    "X_tensor1, y_tensor1 = pickle.load(open(os.path.join(settings.DATA_PATH, 'facial_attribute', 'fairface_set1_tensor.pkl'), 'rb'))\n",
    "X_tensor2, y_tensor2 = pickle.load(open(os.path.join(settings.DATA_PATH, 'facial_attribute', 'fairface_set_rest_tensor.pkl'), 'rb'))\n",
    "X_tensor2, y_tensor2 = X_tensor2[:len(X_tensor1)], y_tensor2[:len(X_tensor1)]\n",
    "train_loader = torch.utils.data.DataLoader(utils.SubTrainDataset(X_tensor1, y_tensor1), batch_size=1024, shuffle=False)\n",
    "test_loader = torch.utils.data.DataLoader(utils.SubTrainDataset(X_tensor2, y_tensor2), batch_size=1024, shuffle=False)"
   ]
  },
  {
   "cell_type": "markdown",
   "id": "5ace420e-1e7a-4bf7-b2de-527dbd625ec1",
   "metadata": {},
   "source": [
    "## Determine the threshold"
   ]
  },
  {
   "cell_type": "markdown",
   "id": "e99391b4-e8e7-4cc2-a2a5-97ee6f284966",
   "metadata": {},
   "source": [
    "Get loss threshold from models trained on victim dataset"
   ]
  },
  {
   "cell_type": "code",
   "execution_count": 19,
   "id": "expected-torture",
   "metadata": {},
   "outputs": [
    {
     "name": "stdout",
     "output_type": "stream",
     "text": [
      "[0.09012060122767382, 0.03080662293866001, 0.007194374206080377, 0.0024051174569462187, 0.003937495935104677, 0.0009540294593823517, 0.002160141134517331, 0.005287242197419957, 0.01508379732353865, 0.0031439800172844553]\n"
     ]
    }
   ],
   "source": [
    "vic_model_thresholds = []\n",
    "advantages = []\n",
    "model_pth_path = os.path.join(settings.CASE_STUDY_CHECKPOINT_PATH, \"resnet101_facial_vic\")\n",
    "for name in sorted(os.listdir(model_pth_path)):\n",
    "    model = getattr(models, 'resnet101')(num_classes=num_classes)\n",
    "    model.load_state_dict(torch.load(os.path.join(model_pth_path, name), map_location='cpu'))\n",
    "    model.eval()\n",
    "    model = nn.Sequential(transforms.Normalize(*mean_std_dict['int1.0']), model).cuda()\n",
    "    train_losses, test_losses = mia.return_losses(model, train_loader, test_loader, device='cuda')\n",
    "    best_threshold, _, _, adv = mia.apply_best_attacks(train_losses, test_losses, select_num=1000)\n",
    "    vic_model_thresholds.append(best_threshold)\n",
    "    advantages.append(adv)\n",
    "print(vic_model_thresholds)"
   ]
  },
  {
   "cell_type": "markdown",
   "id": "6a527d6c-ee38-4873-ba5d-6a7a6d4ec285",
   "metadata": {},
   "source": [
    "## Apply the attack on adversary model\n",
    "Load adversary model"
   ]
  },
  {
   "cell_type": "code",
   "execution_count": 20,
   "id": "designing-saskatchewan",
   "metadata": {
    "scrolled": true,
    "tags": []
   },
   "outputs": [],
   "source": [
    "attacker_model_output = {}\n",
    "inter_names = [f\"regnet_y_8gf_facial_diff_dist_{s}\" for s in target_s_list]\n",
    "for i, intersection in enumerate(inter_names):\n",
    "    inter_propor = f'int{intersection[-3:]}'\n",
    "    model_predicts = []\n",
    "    model_pth_path = os.path.join(settings.CASE_STUDY_CHECKPOINT_PATH, intersection)\n",
    "    for name in os.listdir(model_pth_path):\n",
    "        model = getattr(models, 'regnet_y_8gf')(num_classes=num_classes)\n",
    "        model.load_state_dict(torch.load(os.path.join(model_pth_path, name),  map_location='cpu'))\n",
    "        model.to('cpu')\n",
    "        model.eval()\n",
    "        model = nn.Sequential(transforms.Normalize(*mean_std_dict[inter_propor]), model)\n",
    "        with torch.no_grad():\n",
    "            model_predicts.append(F.cross_entropy(model(verify_tensor).detach().cpu(), verify_label, reduction='none'))\n",
    "    attacker_model_output[inter_propor] = model_predicts"
   ]
  },
  {
   "cell_type": "markdown",
   "id": "3294cd1e-718a-465e-a85d-bacd2ad434f9",
   "metadata": {},
   "source": [
    "MIA success rate as similarity. Round to target s values to compare on the same precision."
   ]
  },
  {
   "cell_type": "code",
   "execution_count": 21,
   "id": "1e696159-7246-4b80-b8f5-e1e5c811a01f",
   "metadata": {},
   "outputs": [],
   "source": [
    "def mia_estimation_accuracy(attacker_model_output, model_thresholds, dst_ratio=1):\n",
    "    all_diff = []\n",
    "    mu_epsilon_dict = {}\n",
    "    for idx_inter, (inter_propor, outputs) in enumerate(attacker_model_output.items()):\n",
    "        true_s = float(inter_propor[-3:]) / dst_ratio\n",
    "        for i, output in enumerate(outputs):\n",
    "            test_memberships = mia.yeom_mi_attack(output.numpy(), model_thresholds[i])\n",
    "            acc = accuracy_score(np.ones(len(output)), test_memberships)\n",
    "            pred_s = target_s_array[np.argmin(np.abs(acc - target_s_array))]\n",
    "            mu = np.round(np.abs(pred_s - true_s), 2)\n",
    "            all_diff.append(mu)\n",
    "\n",
    "    all_diff = np.array(all_diff)\n",
    "    mu_epsilon_summary = {}\n",
    "    for mu in [0.1, 0.2, 0.3, 0.4, 0.5, 0.6, 0.7, 0.8, 0.9]:\n",
    "        mu_epsilon_summary[mu] = len(np.where(all_diff >= mu)[0]) / len(all_diff)\n",
    "    return mu_epsilon_summary, all_diff"
   ]
  },
  {
   "cell_type": "code",
   "execution_count": 22,
   "id": "d9fdb1cd-56df-42a0-81e6-907b5773d14f",
   "metadata": {},
   "outputs": [
    {
     "name": "stdout",
     "output_type": "stream",
     "text": [
      "{0.1: 0.4, 0.2: 0.4, 0.3: 0.1, 0.4: 0.1, 0.5: 0.016666666666666666, 0.6: 0.016666666666666666, 0.7: 0.0, 0.8: 0.0, 0.9: 0.0}\n"
     ]
    }
   ],
   "source": [
    "mu_epsilon_summary, all_diff = mia_estimation_accuracy(attacker_model_output, vic_model_thresholds)\n",
    "print(mu_epsilon_summary)"
   ]
  },
  {
   "cell_type": "markdown",
   "id": "e58196ad-c36e-44cc-a62e-301f50e5d4c8",
   "metadata": {},
   "source": [
    "## Low epoch"
   ]
  },
  {
   "cell_type": "code",
   "execution_count": 23,
   "id": "rubber-amount",
   "metadata": {
    "scrolled": true,
    "tags": []
   },
   "outputs": [],
   "source": [
    "\n",
    "low_epoch_attacker_model_output = {}\n",
    "inter_names = [\"regnet_y_8gf_facial_diff_dist_{}\".format(s) for s in target_s_list[::-1]]\n",
    "for i, intersection in enumerate(inter_names):\n",
    "    inter_propor = f'int{intersection[-3:]}'\n",
    "    model_predicts = []\n",
    "    model_pth_path = os.path.join(settings.CASE_STUDY_CHECKPOINT_PATH, 'low_epoch', 'epoch60', intersection)\n",
    "    for name in os.listdir(model_pth_path):\n",
    "        model = getattr(models, 'regnet_y_8gf')(num_classes=num_classes)\n",
    "        model.load_state_dict(torch.load(os.path.join(model_pth_path, name), map_location='cpu'))\n",
    "        model.to('cpu')\n",
    "        model.eval()\n",
    "        model = nn.Sequential(transforms.Normalize(*mean_std_dict[inter_propor]), model)\n",
    "        with torch.no_grad():\n",
    "            model_predicts.append(F.cross_entropy(model(verify_tensor).detach().cpu(), verify_label, reduction='none'))\n",
    "    low_epoch_attacker_model_output[inter_propor] = model_predicts"
   ]
  },
  {
   "cell_type": "code",
   "execution_count": 24,
   "id": "4250a02c-799c-4c68-979f-ad2c173657b5",
   "metadata": {},
   "outputs": [
    {
     "name": "stdout",
     "output_type": "stream",
     "text": [
      "{0.1: 0.6666666666666666, 0.2: 0.6666666666666666, 0.3: 0.23333333333333334, 0.4: 0.23333333333333334, 0.5: 0.03333333333333333, 0.6: 0.03333333333333333, 0.7: 0.0, 0.8: 0.0, 0.9: 0.0}\n"
     ]
    }
   ],
   "source": [
    "mu_epsilon_summary, all_diff = mia_estimation_accuracy(low_epoch_attacker_model_output, vic_model_thresholds)\n",
    "print(mu_epsilon_summary)"
   ]
  },
  {
   "cell_type": "markdown",
   "id": "f7d7c484-6b32-4ae2-b8bd-9ed42b541f4f",
   "metadata": {},
   "source": [
    "## Adaptive trans\n",
    "### color"
   ]
  },
  {
   "cell_type": "code",
   "execution_count": 25,
   "id": "about-subdivision",
   "metadata": {},
   "outputs": [],
   "source": [
    "\n",
    "adapt_color_attacker_model_output = {}\n",
    "inter_names = [f\"regnet_y_8gf_adaptive_color_facial_diff_dist_{s}\" for s in target_s_list[::-1]]\n",
    "for i, intersection in enumerate(inter_names):\n",
    "    inter_propor = f'int{intersection[-3:]}'\n",
    "    model_predicts = []\n",
    "    model_pth_path = os.path.join(settings.CASE_STUDY_CHECKPOINT_PATH, 'adaptive_trans', intersection)\n",
    "    for name in os.listdir(model_pth_path):\n",
    "        model = getattr(models, 'regnet_y_8gf')(num_classes=num_classes)\n",
    "        net_dict = torch.load(os.path.join(model_pth_path, name), map_location='cpu')\n",
    "        model.load_state_dict(net_dict['net_sd'])\n",
    "        model.eval()\n",
    "        model = nn.Sequential(transforms.Normalize(*net_dict['mean_std']), model)\n",
    "        with torch.no_grad():\n",
    "            model_predicts.append(F.cross_entropy(model(verify_tensor).detach().cpu(), verify_label, reduction='none'))\n",
    "    adapt_color_attacker_model_output[inter_propor] = model_predicts"
   ]
  },
  {
   "cell_type": "code",
   "execution_count": 26,
   "id": "4150de4f-1e09-46ac-81fb-ac275e186a26",
   "metadata": {},
   "outputs": [
    {
     "name": "stdout",
     "output_type": "stream",
     "text": [
      "{0.1: 0.36666666666666664, 0.2: 0.36666666666666664, 0.3: 0.0, 0.4: 0.0, 0.5: 0.0, 0.6: 0.0, 0.7: 0.0, 0.8: 0.0, 0.9: 0.0}\n"
     ]
    }
   ],
   "source": [
    "mu_epsilon_summary, all_diff = mia_estimation_accuracy(adapt_color_attacker_model_output, vic_model_thresholds)\n",
    "print(mu_epsilon_summary)"
   ]
  },
  {
   "cell_type": "markdown",
   "id": "6ec98aff-7d34-4bcc-bf88-1a3a0dd6c8fc",
   "metadata": {},
   "source": [
    "### gauss"
   ]
  },
  {
   "cell_type": "code",
   "execution_count": 27,
   "id": "radio-myrtle",
   "metadata": {},
   "outputs": [],
   "source": [
    "adapt_gauss_attacker_model_output = {}\n",
    "inter_names = [f\"regnet_y_8gf_adaptive_gauss_facial_diff_dist_{s}\" for s in target_s_list[::-1]]\n",
    "for i, intersection in enumerate(inter_names):\n",
    "    inter_propor = f'int{intersection[-3:]}'\n",
    "    model_predicts = []\n",
    "    model_pth_path = os.path.join(settings.CASE_STUDY_CHECKPOINT_PATH, 'adaptive_trans', intersection)\n",
    "    for name in os.listdir(model_pth_path):\n",
    "\n",
    "        model = getattr(models, 'regnet_y_8gf')(num_classes=num_classes)\n",
    "        net_dict = torch.load(os.path.join(model_pth_path, name), map_location='cpu')\n",
    "        model.load_state_dict(net_dict['net_sd'])\n",
    "        model.to('cpu')\n",
    "        model.eval()\n",
    "        model = nn.Sequential(transforms.Normalize(*net_dict['mean_std']), model)\n",
    "\n",
    "        with torch.no_grad():\n",
    "            model_predicts.append(F.cross_entropy(model(verify_tensor).detach().cpu(), verify_label, reduction='none'))\n",
    "    adapt_gauss_attacker_model_output[inter_propor] = model_predicts\n",
    "\n",
    "#     with torch.no_grad():\n",
    "\n",
    "#         model_predicts = []\n",
    "#         for model in models_list:\n",
    "#             tmp = []\n",
    "#             model.cuda()\n",
    "#             for j, x in enumerate(list(verify_tensor)):\n",
    "#                 tmp.append(model(x.unsqueeze(0).cuda()))\n",
    "#             model_predicts.append(F.cross_entropy(torch.cat(tmp, dim=0).detach().cpu(), verify_label, reduction='none'))\n",
    "#             del model\n",
    "#             torch.cuda.empty_cache()\n",
    "#         attacker_model_output[inter_propor] = model_predicts"
   ]
  },
  {
   "cell_type": "code",
   "execution_count": 28,
   "id": "flexible-packing",
   "metadata": {},
   "outputs": [
    {
     "name": "stdout",
     "output_type": "stream",
     "text": [
      "{0.1: 0.6333333333333333, 0.2: 0.6333333333333333, 0.3: 0.03333333333333333, 0.4: 0.03333333333333333, 0.5: 0.0, 0.6: 0.0, 0.7: 0.0, 0.8: 0.0, 0.9: 0.0}\n"
     ]
    }
   ],
   "source": [
    "mu_epsilon_summary, all_diff = mia_estimation_accuracy(adapt_gauss_attacker_model_output, vic_model_thresholds)\n",
    "print(mu_epsilon_summary)"
   ]
  },
  {
   "cell_type": "code",
   "execution_count": null,
   "id": "seeing-papua",
   "metadata": {},
   "outputs": [],
   "source": []
  },
  {
   "cell_type": "markdown",
   "id": "551cd422-6469-4541-ab36-d2d57395d9fc",
   "metadata": {},
   "source": [
    "### gauss_color"
   ]
  },
  {
   "cell_type": "code",
   "execution_count": 29,
   "id": "synthetic-airplane",
   "metadata": {},
   "outputs": [],
   "source": [
    "\n",
    "adapt_gauss_color_attacker_model_output = {}\n",
    "\n",
    "inter_names = [f\"regnet_y_8gf_adaptive_gauss_color_facial_diff_dist_{s}\" for s in target_s_list[::-1]]\n",
    "for i, intersection in enumerate(inter_names):\n",
    "    inter_propor = f'int{intersection[-3:]}'\n",
    "    model_predicts = []\n",
    "    model_pth_path = os.path.join(settings.CASE_STUDY_CHECKPOINT_PATH, 'adaptive_trans', intersection)\n",
    "    for name in os.listdir(model_pth_path):\n",
    "\n",
    "        model = getattr(models, 'regnet_y_8gf')(num_classes=num_classes)\n",
    "        net_dict = torch.load(os.path.join(model_pth_path, name), map_location='cpu')\n",
    "        model.load_state_dict(net_dict['net_sd'])\n",
    "        model.to('cpu')\n",
    "        model.eval()\n",
    "        model = nn.Sequential(transforms.Normalize(*net_dict['mean_std']), model)\n",
    "\n",
    "        with torch.no_grad():\n",
    "            model_predicts.append(F.cross_entropy(model(verify_tensor).detach().cpu(), verify_label, reduction='none'))\n",
    "    adapt_gauss_color_attacker_model_output[inter_propor] = model_predicts"
   ]
  },
  {
   "cell_type": "code",
   "execution_count": 30,
   "id": "d7833516-7f32-4c9e-889d-a6796195f380",
   "metadata": {},
   "outputs": [
    {
     "name": "stdout",
     "output_type": "stream",
     "text": [
      "{0.1: 0.43333333333333335, 0.2: 0.43333333333333335, 0.3: 0.03333333333333333, 0.4: 0.03333333333333333, 0.5: 0.0, 0.6: 0.0, 0.7: 0.0, 0.8: 0.0, 0.9: 0.0}\n"
     ]
    }
   ],
   "source": [
    "mu_epsilon_summary, all_diff = mia_estimation_accuracy(adapt_gauss_color_attacker_model_output, vic_model_thresholds)\n",
    "print(mu_epsilon_summary)"
   ]
  },
  {
   "cell_type": "markdown",
   "id": "46d58b51-34f5-4bbb-876b-ad24306954b4",
   "metadata": {},
   "source": [
    "## Small adversary dataset\n",
    "In this case, we reuse the models trained on whole victim dataset, sample subsets from adversary's dataset and train models on the subsets. Therefore, the thresholds computed on victim datasets remain unchanged.\n",
    "\n",
    "$|\\mathcal{S}_\\mathcal{A}| / |\\mathcal{S}_\\mathcal{V}| = 0.5$"
   ]
  },
  {
   "cell_type": "code",
   "execution_count": 31,
   "id": "hungry-height",
   "metadata": {},
   "outputs": [],
   "source": [
    "mc_n_sample = 100\n",
    "dst_ratio = 2\n",
    "mean_std_dict = process(\"diff_dist\", dst_ratio)"
   ]
  },
  {
   "cell_type": "code",
   "execution_count": 32,
   "id": "strong-brass",
   "metadata": {
    "scrolled": true,
    "tags": []
   },
   "outputs": [],
   "source": [
    "small_adv_dst2_attacker_model_output = {}\n",
    "inter_names = [f\"regnet_y_8gf_facial_diff_dist_dst_ratio{dst_ratio}_{s}\" for s in target_s_list]\n",
    "for i, intersection in enumerate(inter_names):\n",
    "    inter_propor = f'int{intersection[-3:]}'\n",
    "    model_predicts = []\n",
    "    model_pth_path = os.path.join(settings.CASE_STUDY_CHECKPOINT_PATH, 'change_dst_size', intersection)\n",
    "    for name in os.listdir(model_pth_path):\n",
    "        model = getattr(models, 'regnet_y_8gf')(num_classes=num_classes)\n",
    "        model.load_state_dict(torch.load(os.path.join(model_pth_path, name), map_location='cpu'))\n",
    "        model.to('cpu')\n",
    "        model.eval()\n",
    "        model = nn.Sequential(transforms.Normalize(*mean_std_dict[inter_propor]), model)\n",
    "        with torch.no_grad():\n",
    "            model_predicts.append(F.cross_entropy(model(verify_tensor).detach().cpu(), verify_label, reduction='none'))\n",
    "    small_adv_dst2_attacker_model_output[inter_propor] = model_predicts"
   ]
  },
  {
   "cell_type": "code",
   "execution_count": 33,
   "id": "a639bf9d-599e-46dd-bd9c-279286692412",
   "metadata": {},
   "outputs": [
    {
     "name": "stdout",
     "output_type": "stream",
     "text": [
      "{0.1: 0.8333333333333334, 0.2: 0.4166666666666667, 0.3: 0.08333333333333333, 0.4: 0.0, 0.5: 0.0, 0.6: 0.0, 0.7: 0.0, 0.8: 0.0, 0.9: 0.0}\n"
     ]
    }
   ],
   "source": [
    "mu_epsilon_summary, all_diff = mia_estimation_accuracy(small_adv_dst2_attacker_model_output, vic_model_thresholds, dst_ratio=2)\n",
    "print(mu_epsilon_summary)"
   ]
  },
  {
   "cell_type": "markdown",
   "id": "8f229512-1968-4649-96c3-0233c6f46112",
   "metadata": {},
   "source": [
    "$|\\mathcal{S}_\\mathcal{A}| / |\\mathcal{S}_\\mathcal{V}| = 0.1$"
   ]
  },
  {
   "cell_type": "code",
   "execution_count": 34,
   "id": "governing-cylinder",
   "metadata": {},
   "outputs": [],
   "source": [
    "dst_ratio = 10\n",
    "mean_std_dict = process(\"diff_dist\", dst_ratio)"
   ]
  },
  {
   "cell_type": "code",
   "execution_count": 35,
   "id": "known-aaron",
   "metadata": {
    "scrolled": true,
    "tags": []
   },
   "outputs": [],
   "source": [
    "small_adv_dst10_attacker_model_output = {}\n",
    "inter_names = [f\"regnet_y_8gf_facial_diff_dist_dst_ratio{dst_ratio}_{s}\" for s in [0.0, 1.0]]\n",
    "for i, intersection in enumerate(inter_names):\n",
    "    inter_propor = f'int{intersection[-3:]}'\n",
    "    model_predicts = []\n",
    "    model_pth_path = os.path.join(settings.CASE_STUDY_CHECKPOINT_PATH, 'change_dst_size', intersection)\n",
    "    for name in os.listdir(model_pth_path):\n",
    "        model = getattr(models, 'regnet_y_8gf')(num_classes=num_classes)\n",
    "        model.load_state_dict(torch.load(os.path.join(model_pth_path, name), map_location='cpu'))\n",
    "        model.to('cpu')\n",
    "        model.eval()\n",
    "        model = nn.Sequential(transforms.Normalize(*mean_std_dict[inter_propor]), model)\n",
    "        with torch.no_grad():\n",
    "            model_predicts.append(F.cross_entropy(model(verify_tensor).detach().cpu(), verify_label, reduction='none'))\n",
    "    \n",
    "    small_adv_dst10_attacker_model_output[inter_propor] = model_predicts"
   ]
  },
  {
   "cell_type": "code",
   "execution_count": 36,
   "id": "4314e0bc-32f9-4fd7-80c7-546c2ab4bdfb",
   "metadata": {},
   "outputs": [
    {
     "name": "stdout",
     "output_type": "stream",
     "text": [
      "{0.1: 0.5, 0.2: 0.0, 0.3: 0.0, 0.4: 0.0, 0.5: 0.0, 0.6: 0.0, 0.7: 0.0, 0.8: 0.0, 0.9: 0.0}\n"
     ]
    }
   ],
   "source": [
    "mu_epsilon_summary, all_diff = mia_estimation_accuracy(small_adv_dst10_attacker_model_output, vic_model_thresholds, dst_ratio=10)\n",
    "print(mu_epsilon_summary)"
   ]
  },
  {
   "cell_type": "markdown",
   "id": "0c11941f-5cfa-4331-b588-6e94308a42e7",
   "metadata": {},
   "source": [
    "## Large adversary dataset\n",
    "In this case, we leave the models trained on adversary dataset untouched. We sample subsets from the victim dataset and retrain the victim's models. So we change the verification set, and recompute the thresholds for MIA.\n",
    "\n",
    "$|\\mathcal{S}_\\mathcal{A}|/|\\mathcal{S}_\\mathcal{V}|=2$"
   ]
  },
  {
   "cell_type": "code",
   "execution_count": 37,
   "id": "9d751a5b-e589-4241-a091-c8d10f92d3ce",
   "metadata": {},
   "outputs": [],
   "source": [
    "s_list = np.array([0.0, 0.2, 0.4, 0.6, 0.8, 1.0])\n",
    "mc_n_sample = 100\n",
    "dst_ratio = 2\n",
    "select_idx, verify_tensor, num_classes, verify_label = verification_set(mc_n_sample, dst_ratio)\n",
    "mean_std_dict = process(\"same_dist\", dst_ratio)\n",
    "\n",
    "X_tensor1, y_tensor1 = pickle.load(open(os.path.join(settings.DATA_PATH, 'facial_attribute', 'fairface_set1_tensor.pkl'), 'rb'))\n",
    "X_tensor2, y_tensor2 = pickle.load(open(os.path.join(settings.DATA_PATH, 'facial_attribute', 'fairface_set_rest_tensor.pkl'), 'rb'))\n",
    "X_tensor2, y_tensor2 = X_tensor2[:len(X_tensor1)][::dst_ratio], y_tensor2[:len(X_tensor1)][::dst_ratio]\n",
    "train_loader = torch.utils.data.DataLoader(utils.SubTrainDataset(X_tensor1, y_tensor1), batch_size=1024, shuffle=False)\n",
    "test_loader = torch.utils.data.DataLoader(utils.SubTrainDataset(X_tensor2, y_tensor2), batch_size=1024, shuffle=False)\n"
   ]
  },
  {
   "cell_type": "markdown",
   "id": "aeb00dca-28b9-4c01-885b-294af9db7913",
   "metadata": {},
   "source": [
    " Select the best threshold"
   ]
  },
  {
   "cell_type": "code",
   "execution_count": 38,
   "id": "described-brave",
   "metadata": {},
   "outputs": [
    {
     "name": "stderr",
     "output_type": "stream",
     "text": [
      "100%|██████████████████████████████████████████████████████████████████████████| 10/10 [03:04<00:00, 18.47s/it]"
     ]
    },
    {
     "name": "stdout",
     "output_type": "stream",
     "text": [
      "[0.035728977979820886, 0.04093355636043228, 0.01887703043809319, 0.02550684400882952, 0.02110967882901793, 0.03514683520417261, 0.006325050204142091, 0.047834314792335686, 0.016206420888208672, 0.03767833550589739]\n"
     ]
    },
    {
     "name": "stderr",
     "output_type": "stream",
     "text": [
      "\n"
     ]
    }
   ],
   "source": [
    "large_adv_dst2_model_thresholds = []\n",
    "\n",
    "model_pth_path = os.path.join(settings.CASE_STUDY_CHECKPOINT_PATH, 'change_dst_size', f\"resnet101_facial_same_dist_dst_ratio{dst_ratio}_1.0\")\n",
    "for name in tqdm(sorted(os.listdir(model_pth_path))):\n",
    "    model = getattr(models, 'resnet101')(num_classes=num_classes)\n",
    "    model.load_state_dict(torch.load(os.path.join(model_pth_path, name), map_location='cpu'))\n",
    "    model.eval()\n",
    "    model = nn.Sequential(transforms.Normalize(*mean_std_dict['int1.0']), model)\n",
    "    model.cuda()\n",
    "    train_losses, test_losses = mia.return_losses(model, train_loader, test_loader, device='cuda')\n",
    "    best_threshold, _, _, adv = mia.apply_best_attacks(train_losses, test_losses, select_num=1000)\n",
    "    large_adv_dst2_model_thresholds.append(best_threshold)\n",
    "\n",
    "print(large_adv_dst2_model_thresholds)"
   ]
  },
  {
   "cell_type": "code",
   "execution_count": 39,
   "id": "legendary-myanmar",
   "metadata": {
    "scrolled": true,
    "tags": []
   },
   "outputs": [],
   "source": [
    "large_adv_dst2_attacker_model_output = {}\n",
    "inter_names = [f\"regnet_y_8gf_facial_diff_dist_{s}\" for s in target_s_list]\n",
    "mean_std_dict = process(\"diff_dist\", dst_ratio=1)\n",
    "for i, intersection in enumerate(inter_names):\n",
    "    inter_propor = f'int{intersection[-3:]}'\n",
    "    model_predicts = []\n",
    "    model_pth_path = os.path.join(settings.CASE_STUDY_CHECKPOINT_PATH, intersection)\n",
    "    for name in os.listdir(model_pth_path):\n",
    "        model = getattr(models, 'regnet_y_8gf')(num_classes=num_classes).cuda()\n",
    "        model.load_state_dict(torch.load(os.path.join(model_pth_path, name), map_location='cpu'))\n",
    "        model.to('cpu')\n",
    "        model.eval()\n",
    "        model = nn.Sequential(transforms.Normalize(*mean_std_dict[inter_propor]), model)\n",
    "        with torch.no_grad():\n",
    "            model_predicts.append(F.cross_entropy(model(verify_tensor).detach().cpu(), verify_label, reduction='none'))\n",
    "    large_adv_dst2_attacker_model_output[inter_propor] = model_predicts"
   ]
  },
  {
   "cell_type": "code",
   "execution_count": 40,
   "id": "a912673e-a699-4afe-b35c-ca903ef27c84",
   "metadata": {},
   "outputs": [
    {
     "name": "stdout",
     "output_type": "stream",
     "text": [
      "{0.1: 0.26666666666666666, 0.2: 0.26666666666666666, 0.3: 0.03333333333333333, 0.4: 0.03333333333333333, 0.5: 0.0, 0.6: 0.0, 0.7: 0.0, 0.8: 0.0, 0.9: 0.0}\n"
     ]
    }
   ],
   "source": [
    "mu_epsilon_summary, all_diff = mia_estimation_accuracy(large_adv_dst2_attacker_model_output, large_adv_dst2_model_thresholds)\n",
    "print(mu_epsilon_summary)"
   ]
  },
  {
   "cell_type": "code",
   "execution_count": null,
   "id": "f40ad1e2-c002-48f7-9832-5fca8b059fac",
   "metadata": {},
   "outputs": [],
   "source": []
  },
  {
   "cell_type": "markdown",
   "id": "a128c614-fe13-4fd7-878d-cd76368bbadf",
   "metadata": {},
   "source": [
    "$|\\mathcal{S}_\\mathcal{A}|/|\\mathcal{S}_\\mathcal{V}|=10$"
   ]
  },
  {
   "cell_type": "code",
   "execution_count": 41,
   "id": "68fbe348-c7fe-41ab-a0a2-6f1971bf37a3",
   "metadata": {},
   "outputs": [],
   "source": [
    "mc_n_sample = 100\n",
    "dst_ratio = 10\n",
    "select_idx, verify_tensor, num_classes, verify_label = verification_set(mc_n_sample, dst_ratio)\n",
    "mean_std_dict = process(\"same_dist\", dst_ratio)\n",
    "\n",
    "X_tensor1, y_tensor1 = pickle.load(open(f'/data1/RAI2/data/facial_attribute/fairface_set1_tensor.pkl', 'rb'))\n",
    "X_tensor2, y_tensor2 = pickle.load(open(f'/data1/RAI2/data/facial_attribute/fairface_set_rest_tensor.pkl', 'rb'))\n",
    "X_tensor2, y_tensor2 = X_tensor2[:len(X_tensor1)][::dst_ratio], y_tensor2[:len(X_tensor1)][::dst_ratio]\n",
    "train_loader = torch.utils.data.DataLoader(utils.SubTrainDataset(X_tensor1, y_tensor1), batch_size=1024, shuffle=False)\n",
    "test_loader = torch.utils.data.DataLoader(utils.SubTrainDataset(X_tensor2, y_tensor2), batch_size=1024, shuffle=False)\n"
   ]
  },
  {
   "cell_type": "markdown",
   "id": "c4469177-cf74-4f7e-a5ba-2a9e36c0d36d",
   "metadata": {},
   "source": [
    "Select the best threshold"
   ]
  },
  {
   "cell_type": "code",
   "execution_count": 42,
   "id": "yellow-magic",
   "metadata": {},
   "outputs": [
    {
     "name": "stderr",
     "output_type": "stream",
     "text": [
      "100%|██████████████████████████████████████████████████████████████████████████| 10/10 [02:09<00:00, 12.96s/it]"
     ]
    },
    {
     "name": "stdout",
     "output_type": "stream",
     "text": [
      "[0.046628176488709094, 0.03657508792160513, 0.8609939756387983, 0.3478587104347355, 0.0806976314615584, 0.008992113924650269, 0.08062530119963274, 0.6149576468210247, 2.8009280084230985, 1.5727584260100285]\n"
     ]
    },
    {
     "name": "stderr",
     "output_type": "stream",
     "text": [
      "\n"
     ]
    }
   ],
   "source": [
    "large_adv_dst10_model_thresholds = []\n",
    "\n",
    "model_pth_path = os.path.join(settings.CASE_STUDY_CHECKPOINT_PATH, 'change_dst_size', f\"resnet101_facial_same_dist_dst_ratio{dst_ratio}_1.0\")\n",
    "for name in tqdm(sorted(os.listdir(model_pth_path))):\n",
    "    model = getattr(models, 'resnet101')(num_classes=num_classes)\n",
    "    model.load_state_dict(torch.load(os.path.join(model_pth_path, name), map_location='cpu'))\n",
    "    model.eval()\n",
    "    model = nn.Sequential(transforms.Normalize(*mean_std_dict['int1.0']), model)\n",
    "    model.cuda()\n",
    "    train_losses, test_losses = mia.return_losses(model, train_loader, test_loader, device='cuda')\n",
    "    best_threshold, _, _, adv = mia.apply_best_attacks(train_losses, test_losses, select_num=1000)\n",
    "    large_adv_dst10_model_thresholds.append(best_threshold)\n",
    "\n",
    "print(large_adv_dst10_model_thresholds)"
   ]
  },
  {
   "cell_type": "code",
   "execution_count": 43,
   "id": "9b7a8d5f-54db-4fac-b224-cb0401b7d06b",
   "metadata": {
    "scrolled": true,
    "tags": []
   },
   "outputs": [],
   "source": [
    "large_adv_dst10_attacker_model_output = {}\n",
    "inter_names = [f\"regnet_y_8gf_facial_diff_dist_{s}\" for s in target_s_list]\n",
    "mean_std_dict = process(\"diff_dist\", dst_ratio=1)\n",
    "for i, intersection in enumerate(inter_names):\n",
    "    inter_propor = f'int{intersection[-3:]}'\n",
    "    model_predicts = []\n",
    "    model_pth_path = os.path.join(settings.CASE_STUDY_CHECKPOINT_PATH, intersection)\n",
    "    for name in os.listdir(model_pth_path):\n",
    "        model = getattr(models, 'regnet_y_8gf')(num_classes=num_classes).cuda()\n",
    "        model.load_state_dict(torch.load(os.path.join(model_pth_path, name), map_location='cpu'))\n",
    "        model.to('cpu')\n",
    "        model.eval()\n",
    "        model = nn.Sequential(transforms.Normalize(*mean_std_dict[inter_propor]), model)\n",
    "        with torch.no_grad():\n",
    "            model_predicts.append(F.cross_entropy(model(verify_tensor).detach().cpu(), verify_label, reduction='none'))\n",
    "    large_adv_dst10_attacker_model_output[inter_propor] = model_predicts"
   ]
  },
  {
   "cell_type": "code",
   "execution_count": 44,
   "id": "8932c003-843f-4887-ab4b-2e1b762f3d1c",
   "metadata": {},
   "outputs": [
    {
     "name": "stdout",
     "output_type": "stream",
     "text": [
      "{0.1: 0.5166666666666667, 0.2: 0.5166666666666667, 0.3: 0.13333333333333333, 0.4: 0.13333333333333333, 0.5: 0.016666666666666666, 0.6: 0.016666666666666666, 0.7: 0.0, 0.8: 0.0, 0.9: 0.0}\n"
     ]
    }
   ],
   "source": [
    "mu_epsilon_summary, all_diff = mia_estimation_accuracy(large_adv_dst10_attacker_model_output, large_adv_dst10_model_thresholds)\n",
    "print(mu_epsilon_summary)"
   ]
  }
 ],
 "metadata": {
  "kernelspec": {
   "display_name": "Python 3 (ipykernel)",
   "language": "python",
   "name": "python3"
  },
  "language_info": {
   "codemirror_mode": {
    "name": "ipython",
    "version": 3
   },
   "file_extension": ".py",
   "mimetype": "text/x-python",
   "name": "python",
   "nbconvert_exporter": "python",
   "pygments_lexer": "ipython3",
   "version": "3.10.8"
  },
  "vscode": {
   "interpreter": {
    "hash": "0eeec672e8831509c37f92c71492cd90b836b65aedea0b052a189628939cf9ae"
   }
  }
 },
 "nbformat": 4,
 "nbformat_minor": 5
}
