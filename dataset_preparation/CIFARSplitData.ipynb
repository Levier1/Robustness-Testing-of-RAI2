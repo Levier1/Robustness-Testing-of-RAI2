{
 "cells": [
  {
   "cell_type": "code",
   "execution_count": 1,
   "id": "experimental-montgomery",
   "metadata": {},
   "outputs": [],
   "source": [
    "import os\n",
    "import numpy as np\n",
    "import torchvision\n",
    "from tqdm import tqdm\n",
    "import pickle\n",
    "np.random.seed(0)\n"
   ]
  },
  {
   "cell_type": "code",
   "execution_count": 2,
   "id": "junior-truth",
   "metadata": {},
   "outputs": [
    {
     "name": "stdout",
     "output_type": "stream",
     "text": [
      "Data stored in ./data/CIFAR10\n",
      "Files already downloaded and verified\n",
      "[11841 19602 45519 ... 18418 29236 37107]\n"
     ]
    }
   ],
   "source": [
    "dataset = \"CIFAR10\"\n",
    "data_dir = os.path.join(\"./\", dataset)\n",
    "print('Data stored in %s' % data_dir)\n",
    "if dataset == \"CIFAR10\":\n",
    "    trainset = torchvision.datasets.CIFAR10(root=data_dir, train=True, download=True, transform=None)\n",
    "else:\n",
    "    trainset = torchvision.datasets.CIFAR100(root=data_dir, train=True, download=True, transform=None)\n",
    "vic_num = len(trainset) // 2\n",
    "vic_idx = np.random.choice(len(trainset), vic_num, replace=False)\n",
    "print(vic_idx) "
   ]
  },
  {
   "cell_type": "code",
   "execution_count": 3,
   "id": "surprised-rwanda",
   "metadata": {},
   "outputs": [
    {
     "name": "stderr",
     "output_type": "stream",
     "text": [
      "100%|██████████| 50000/50000 [00:01<00:00, 32225.17it/s]\n"
     ]
    }
   ],
   "source": [
    "X_list = []\n",
    "y_list = []\n",
    "# recover from np.array\n",
    "# from PIL import Image\n",
    "# im = Image.fromarray(X_train_list[0])\n",
    "for data in tqdm(trainset):\n",
    "    x, y = data\n",
    "    X_list.append(np.array(x))\n",
    "    y_list.append(y)"
   ]
  },
  {
   "cell_type": "code",
   "execution_count": 4,
   "id": "lined-meeting",
   "metadata": {},
   "outputs": [],
   "source": [
    "X_np = np.array(X_list)\n",
    "y_np = np.array(y_list)"
   ]
  },
  {
   "cell_type": "code",
   "execution_count": 5,
   "id": "charitable-bullet",
   "metadata": {},
   "outputs": [],
   "source": [
    "X_set1 = X_np[vic_idx]\n",
    "y_set1 = y_np[vic_idx]\n",
    "X_set2 = X_np[~vic_idx]\n",
    "y_set2 = y_np[~vic_idx]"
   ]
  },
  {
   "cell_type": "code",
   "execution_count": 6,
   "id": "funny-wallpaper",
   "metadata": {},
   "outputs": [],
   "source": [
    "pickle.dump(((X_set1, y_set1), (X_set2, y_set2)), open(\"./{}_sub_train_split.pkl\".format(dataset), \"wb\"))"
   ]
  },
  {
   "cell_type": "markdown",
   "id": "dominican-fraud",
   "metadata": {},
   "source": [
    "# compute mean and std"
   ]
  },
  {
   "cell_type": "code",
   "execution_count": 7,
   "id": "mexican-needle",
   "metadata": {},
   "outputs": [],
   "source": [
    "import torchvision.transforms as transforms\n",
    "import torch"
   ]
  },
  {
   "cell_type": "code",
   "execution_count": 8,
   "id": "bigger-dialogue",
   "metadata": {},
   "outputs": [],
   "source": [
    "totensor = transforms.ToTensor()"
   ]
  },
  {
   "cell_type": "code",
   "execution_count": 9,
   "id": "located-reduction",
   "metadata": {},
   "outputs": [
    {
     "name": "stderr",
     "output_type": "stream",
     "text": [
      "100%|██████████| 50000/50000 [00:03<00:00, 16397.24it/s]\n"
     ]
    }
   ],
   "source": [
    "X_all_list = []\n",
    "for data in tqdm(trainset):\n",
    "    x, _ = data\n",
    "    X_all_list.append(totensor(x))"
   ]
  },
  {
   "cell_type": "code",
   "execution_count": 10,
   "id": "reserved-poultry",
   "metadata": {},
   "outputs": [],
   "source": [
    "X_tensor = torch.stack(X_all_list)"
   ]
  },
  {
   "cell_type": "markdown",
   "id": "smaller-party",
   "metadata": {},
   "source": [
    "# all "
   ]
  },
  {
   "cell_type": "code",
   "execution_count": 11,
   "id": "living-russell",
   "metadata": {},
   "outputs": [
    {
     "data": {
      "text/plain": [
       "array([0.4914008 , 0.482159  , 0.44653094], dtype=float32)"
      ]
     },
     "execution_count": 11,
     "metadata": {},
     "output_type": "execute_result"
    }
   ],
   "source": [
    "X_tensor.mean(dim=[0,2,3]).numpy()"
   ]
  },
  {
   "cell_type": "code",
   "execution_count": 12,
   "id": "severe-adrian",
   "metadata": {},
   "outputs": [
    {
     "data": {
      "text/plain": [
       "array([0.24703224, 0.24348514, 0.26158786], dtype=float32)"
      ]
     },
     "execution_count": 12,
     "metadata": {},
     "output_type": "execute_result"
    }
   ],
   "source": [
    "X_tensor.std(dim=[0,2,3]).numpy()"
   ]
  },
  {
   "cell_type": "markdown",
   "id": "after-tuition",
   "metadata": {},
   "source": [
    "## subset1"
   ]
  },
  {
   "cell_type": "code",
   "execution_count": 13,
   "id": "advisory-delicious",
   "metadata": {},
   "outputs": [
    {
     "data": {
      "text/plain": [
       "array([0.49115923, 0.4816946 , 0.4456668 ], dtype=float32)"
      ]
     },
     "execution_count": 13,
     "metadata": {},
     "output_type": "execute_result"
    }
   ],
   "source": [
    "X_tensor[torch.tensor(vic_idx)].mean(dim=[0,2,3]).numpy()"
   ]
  },
  {
   "cell_type": "code",
   "execution_count": 14,
   "id": "useful-chicken",
   "metadata": {},
   "outputs": [
    {
     "data": {
      "text/plain": [
       "array([0.24728498, 0.24360786, 0.26152962], dtype=float32)"
      ]
     },
     "execution_count": 14,
     "metadata": {},
     "output_type": "execute_result"
    }
   ],
   "source": [
    "X_tensor[torch.tensor(vic_idx)].std(dim=[0,2,3]).numpy()"
   ]
  },
  {
   "cell_type": "markdown",
   "id": "liked-still",
   "metadata": {},
   "source": [
    "## subset2"
   ]
  },
  {
   "cell_type": "code",
   "execution_count": 15,
   "id": "closed-ecuador",
   "metadata": {},
   "outputs": [
    {
     "data": {
      "text/plain": [
       "array([0.49106905, 0.4816098 , 0.4461698 ], dtype=float32)"
      ]
     },
     "execution_count": 15,
     "metadata": {},
     "output_type": "execute_result"
    }
   ],
   "source": [
    "X_tensor[~torch.tensor(vic_idx)].mean(dim=[0,2,3]).numpy()"
   ]
  },
  {
   "cell_type": "code",
   "execution_count": 16,
   "id": "still-workstation",
   "metadata": {},
   "outputs": [
    {
     "data": {
      "text/plain": [
       "array([0.24676642, 0.24312036, 0.26133248], dtype=float32)"
      ]
     },
     "execution_count": 16,
     "metadata": {},
     "output_type": "execute_result"
    }
   ],
   "source": [
    "X_tensor[~torch.tensor(vic_idx)].std(dim=[0,2,3]).numpy()"
   ]
  }
 ],
 "metadata": {
  "kernelspec": {
   "display_name": "cv",
   "language": "python",
   "name": "python3"
  },
  "language_info": {
   "codemirror_mode": {
    "name": "ipython",
    "version": 3
   },
   "file_extension": ".py",
   "mimetype": "text/x-python",
   "name": "python",
   "nbconvert_exporter": "python",
   "pygments_lexer": "ipython3",
   "version": "3.10.8"
  },
  "vscode": {
   "interpreter": {
    "hash": "5976f27f823bf31765e09b881653048540bb46ca41fc008cadef0af9840eb372"
   }
  }
 },
 "nbformat": 4,
 "nbformat_minor": 5
}
