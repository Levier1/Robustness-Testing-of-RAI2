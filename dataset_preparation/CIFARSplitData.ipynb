{
 "cells": [
  {
   "cell_type": "code",
   "id": "experimental-montgomery",
   "metadata": {},
   "source": [
    "import os\n",
    "import numpy as np\n",
    "import torchvision\n",
    "from tqdm import tqdm\n",
    "import pickle\n",
    "np.random.seed(0)\n"
   ],
   "outputs": [],
   "execution_count": 53
  },
  {
   "cell_type": "code",
   "id": "junior-truth",
   "metadata": {},
   "source": [
    "dataset = \"CIFAR100\"\n",
    "data_dir = os.path.join(\"/home/featurize/data\", dataset)\n",
    "print('Data stored in %s' % data_dir)\n",
    "if dataset == \"CIFAR10\":\n",
    "    trainset = torchvision.datasets.CIFAR10(root=data_dir, train=True, download=True, transform=None)\n",
    "else:\n",
    "    trainset = torchvision.datasets.CIFAR100(root=data_dir, train=True, download=True, transform=None)\n",
    "vic_num = len(trainset) // 2\n",
    "vic_idx = np.random.choice(len(trainset), vic_num, replace=False)\n",
    "print(vic_idx) "
   ],
   "outputs": [],
   "execution_count": 54
  },
  {
   "cell_type": "code",
   "id": "surprised-rwanda",
   "metadata": {},
   "source": [
    "X_list = []\n",
    "y_list = []\n",
    "# recover from np.array\n",
    "# from PIL import Image\n",
    "# im = Image.fromarray(X_train_list[0])\n",
    "for data in tqdm(trainset):\n",
    "    x, y = data\n",
    "    X_list.append(np.array(x))\n",
    "    y_list.append(y)"
   ],
   "outputs": [],
   "execution_count": 55
  },
  {
   "cell_type": "code",
   "id": "lined-meeting",
   "metadata": {},
   "source": [
    "X_np = np.array(X_list)\n",
    "y_np = np.array(y_list)"
   ],
   "outputs": [],
   "execution_count": 56
  },
  {
   "cell_type": "code",
   "id": "charitable-bullet",
   "metadata": {},
   "source": [
    "X_set1 = X_np[vic_idx]\n",
    "y_set1 = y_np[vic_idx]\n",
    "X_set2 = X_np[~vic_idx]\n",
    "y_set2 = y_np[~vic_idx]"
   ],
   "outputs": [],
   "execution_count": 57
  },
  {
   "cell_type": "code",
   "id": "funny-wallpaper",
   "metadata": {},
   "source": "pickle.dump(((X_set1, y_set1), (X_set2, y_set2)), open(\"/home/featurize/work/RAI2project/similarity/{}_sub_train_split.pkl\".format(dataset), \"wb\"))",
   "outputs": [],
   "execution_count": 58
  },
  {
   "cell_type": "markdown",
   "id": "dominican-fraud",
   "metadata": {},
   "source": "# compute mean and std"
  },
  {
   "cell_type": "code",
   "id": "mexican-needle",
   "metadata": {},
   "source": [
    "import torchvision.transforms as transforms\n",
    "import torch"
   ],
   "outputs": [],
   "execution_count": 59
  },
  {
   "cell_type": "code",
   "id": "bigger-dialogue",
   "metadata": {},
   "source": [
    "totensor = transforms.ToTensor()"
   ],
   "outputs": [],
   "execution_count": 60
  },
  {
   "cell_type": "code",
   "id": "located-reduction",
   "metadata": {},
   "source": [
    "X_all_list = []\n",
    "for data in tqdm(trainset):\n",
    "    x, _ = data\n",
    "    X_all_list.append(totensor(x))"
   ],
   "outputs": [],
   "execution_count": 61
  },
  {
   "cell_type": "code",
   "id": "reserved-poultry",
   "metadata": {},
   "source": [
    "X_tensor = torch.stack(X_all_list)"
   ],
   "outputs": [],
   "execution_count": 62
  },
  {
   "cell_type": "markdown",
   "id": "smaller-party",
   "metadata": {},
   "source": [
    "# all "
   ]
  },
  {
   "cell_type": "code",
   "id": "living-russell",
   "metadata": {},
   "source": [
    "X_tensor.mean(dim=[0,2,3]).numpy()"
   ],
   "outputs": [],
   "execution_count": 63
  },
  {
   "cell_type": "code",
   "id": "severe-adrian",
   "metadata": {},
   "source": [
    "X_tensor.std(dim=[0,2,3]).numpy()"
   ],
   "outputs": [],
   "execution_count": 64
  },
  {
   "cell_type": "markdown",
   "id": "after-tuition",
   "metadata": {},
   "source": [
    "## subset1"
   ]
  },
  {
   "cell_type": "code",
   "id": "advisory-delicious",
   "metadata": {},
   "source": [
    "X_tensor[torch.tensor(vic_idx)].mean(dim=[0,2,3]).numpy()"
   ],
   "outputs": [],
   "execution_count": 65
  },
  {
   "cell_type": "code",
   "id": "useful-chicken",
   "metadata": {},
   "source": [
    "X_tensor[torch.tensor(vic_idx)].std(dim=[0,2,3]).numpy()"
   ],
   "outputs": [],
   "execution_count": 66
  },
  {
   "cell_type": "markdown",
   "id": "liked-still",
   "metadata": {},
   "source": [
    "## subset2"
   ]
  },
  {
   "cell_type": "code",
   "id": "closed-ecuador",
   "metadata": {},
   "source": [
    "X_tensor[~torch.tensor(vic_idx)].mean(dim=[0,2,3]).numpy()"
   ],
   "outputs": [],
   "execution_count": 67
  },
  {
   "cell_type": "code",
   "id": "still-workstation",
   "metadata": {},
   "source": [
    "X_tensor[~torch.tensor(vic_idx)].std(dim=[0,2,3]).numpy()"
   ],
   "outputs": [],
   "execution_count": 68
  },
  {
   "metadata": {},
   "cell_type": "code",
   "source": "",
   "id": "19380ea7a2a7f4e3",
   "outputs": [],
   "execution_count": null
  }
 ],
 "metadata": {
  "kernelspec": {
   "display_name": "cv",
   "language": "python",
   "name": "python3"
  },
  "language_info": {
   "codemirror_mode": {
    "name": "ipython",
    "version": 3
   },
   "file_extension": ".py",
   "mimetype": "text/x-python",
   "name": "python",
   "nbconvert_exporter": "python",
   "pygments_lexer": "ipython3",
   "version": "3.10.8"
  },
  "vscode": {
   "interpreter": {
    "hash": "5976f27f823bf31765e09b881653048540bb46ca41fc008cadef0af9840eb372"
   }
  }
 },
 "nbformat": 4,
 "nbformat_minor": 5
}
