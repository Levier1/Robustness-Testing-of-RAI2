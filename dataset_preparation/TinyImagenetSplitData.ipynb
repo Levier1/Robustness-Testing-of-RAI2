{
 "cells": [
  {
   "cell_type": "code",
   "id": "injured-think",
   "metadata": {
    "ExecuteTime": {
     "end_time": "2024-10-08T02:37:24.860515Z",
     "start_time": "2024-10-08T02:37:23.035008Z"
    }
   },
   "source": [
    "import os\n",
    "import numpy as np\n",
    "import torch\n",
    "import torchvision.datasets as datasets\n",
    "import torchvision.transforms as transforms\n",
    "import torch.utils.data as data\n",
    "from PIL import Image\n",
    "import pickle\n",
    "from tqdm import tqdm"
   ],
   "outputs": [],
   "execution_count": 1
  },
  {
   "cell_type": "markdown",
   "id": "starting-influence",
   "metadata": {},
   "source": [
    "# Load train data"
   ]
  },
  {
   "cell_type": "code",
   "id": "respected-butler",
   "metadata": {
    "ExecuteTime": {
     "end_time": "2024-10-08T02:37:25.165167Z",
     "start_time": "2024-10-08T02:37:24.919067Z"
    }
   },
   "source": [
    "train_dir = '/home/featurize/data/tiny-imagenet-200/train/'\n",
    "train_dataset = datasets.ImageFolder(\n",
    "    train_dir) # \n",
    "train_loader = data.DataLoader(train_dataset, batch_size=128, shuffle=True, num_workers=8)\n",
    "toTensor = transforms.ToTensor()\n",
    "toPIL = transforms.ToPILImage()\n",
    "# print(\"加载训练目录: %s\" % (train_dir))\n",
    "# print(\"加载类别数量 %d\"%len(train_dataset.classes))\n",
    "# print(\"类别 n01443537 映射 index %d\" % train_dataset.class_to_idx['n01443537'])\n",
    "# print(\"图片 %s 映射到 idx %d\" % train_dataset.imgs[0])"
   ],
   "outputs": [],
   "execution_count": 2
  },
  {
   "cell_type": "markdown",
   "id": "potential-interpretation",
   "metadata": {},
   "source": [
    "## Process test data"
   ]
  },
  {
   "cell_type": "code",
   "id": "classical-graphic",
   "metadata": {
    "ExecuteTime": {
     "end_time": "2024-10-08T02:37:26.897175Z",
     "start_time": "2024-10-08T02:37:25.474429Z"
    }
   },
   "source": [
    "val_imgs = []\n",
    "val_labels = []\n",
    "\n",
    "val_dir = '/home/featurize/data/tiny-imagenet-200/val/'\n",
    "with open(os.path.join(val_dir, 'val_annotations.txt'), \"r\") as f:\n",
    "    val_f_annot = [(s.split('\\t')[0], s.split('\\t')[1]) for s in f.readlines()]\n",
    "    \n",
    "for img_file, class_name in val_f_annot:\n",
    "    img = np.array(Image.open(os.path.join(val_dir, 'images', img_file)))\n",
    "    if len(img.shape) != 3:\n",
    "        img = img.reshape(64, 64, 1).repeat(3, axis=2)\n",
    "    val_imgs.append(img)\n",
    "    val_labels.append(train_dataset.class_to_idx[class_name])\n",
    "# from utils import SubTrainDataset\n",
    "# test_dataset = SubTrainDataset(val_imgs, val_labels, transform=transforms.ToTensor())\n",
    "pickle.dump((val_imgs, val_labels), open(\"/home/featurize/work/RAI2project/RAI2data/similarity/TinyImagenet_test.pkl\", \"wb\"))"
   ],
   "outputs": [],
   "execution_count": 3
  },
  {
   "cell_type": "markdown",
   "id": "second-sellers",
   "metadata": {},
   "source": [
    "## Compute mean and std"
   ]
  },
  {
   "cell_type": "code",
   "id": "warming-replica",
   "metadata": {
    "ExecuteTime": {
     "end_time": "2024-10-08T02:37:48.900429Z",
     "start_time": "2024-10-08T02:37:26.949646Z"
    }
   },
   "source": [
    "X_tensor = []\n",
    "for x, y in tqdm(train_dataset):\n",
    "    X_tensor.append(toTensor(x))\n",
    "X_tensor = torch.stack(X_tensor)"
   ],
   "outputs": [
    {
     "name": "stderr",
     "output_type": "stream",
     "text": [
      "100%|██████████| 100000/100000 [00:20<00:00, 4849.20it/s]\n"
     ]
    }
   ],
   "execution_count": 4
  },
  {
   "cell_type": "code",
   "id": "daily-requirement",
   "metadata": {
    "ExecuteTime": {
     "end_time": "2024-10-08T02:37:49.101759Z",
     "start_time": "2024-10-08T02:37:48.949942Z"
    }
   },
   "source": [
    "# mean\n",
    "X_tensor.mean(dim=[0, 2, 3]).numpy()"
   ],
   "outputs": [
    {
     "data": {
      "text/plain": [
       "array([0.48023874, 0.4480645 , 0.39750546], dtype=float32)"
      ]
     },
     "execution_count": 5,
     "metadata": {},
     "output_type": "execute_result"
    }
   ],
   "execution_count": 5
  },
  {
   "cell_type": "code",
   "id": "bored-bacteria",
   "metadata": {
    "ExecuteTime": {
     "end_time": "2024-10-08T02:37:51.531221Z",
     "start_time": "2024-10-08T02:37:49.285417Z"
    }
   },
   "source": [
    "# mean\n",
    "X_tensor.std(dim=[0, 2, 3]).numpy()"
   ],
   "outputs": [
    {
     "data": {
      "text/plain": [
       "array([0.27643642, 0.2688633 , 0.28158993], dtype=float32)"
      ]
     },
     "execution_count": 6,
     "metadata": {},
     "output_type": "execute_result"
    }
   ],
   "execution_count": 6
  },
  {
   "cell_type": "code",
   "id": "satisfactory-backing",
   "metadata": {
    "ExecuteTime": {
     "end_time": "2024-10-08T02:37:51.657219Z",
     "start_time": "2024-10-08T02:37:51.654582Z"
    }
   },
   "source": [],
   "outputs": [],
   "execution_count": null
  },
  {
   "cell_type": "markdown",
   "id": "sustained-parts",
   "metadata": {},
   "source": [
    "# Random split train dataset"
   ]
  },
  {
   "cell_type": "code",
   "id": "minute-greensboro",
   "metadata": {
    "ExecuteTime": {
     "end_time": "2024-10-08T02:37:51.755916Z",
     "start_time": "2024-10-08T02:37:51.745725Z"
    }
   },
   "source": [
    "np.random.seed(0)\n",
    "vic_idx = np.random.choice(len(train_dataset), len(train_dataset) // 2, replace=False)"
   ],
   "outputs": [],
   "execution_count": 7
  },
  {
   "cell_type": "code",
   "id": "corresponding-first",
   "metadata": {
    "ExecuteTime": {
     "end_time": "2024-10-08T02:38:03.675681Z",
     "start_time": "2024-10-08T02:37:51.829804Z"
    }
   },
   "source": [
    "X_list = []\n",
    "y_list = []\n",
    "# recover from np.array\n",
    "# from PIL import Image\n",
    "# im = Image.fromarray(X_train_list[0])\n",
    "for x, y in tqdm(train_dataset):\n",
    "    X_list.append(np.array(x))\n",
    "    y_list.append(y)"
   ],
   "outputs": [
    {
     "name": "stderr",
     "output_type": "stream",
     "text": [
      "100%|██████████| 100000/100000 [00:11<00:00, 8446.32it/s]\n"
     ]
    }
   ],
   "execution_count": 8
  },
  {
   "cell_type": "code",
   "id": "armed-thumbnail",
   "metadata": {
    "ExecuteTime": {
     "end_time": "2024-10-08T02:38:03.938598Z",
     "start_time": "2024-10-08T02:38:03.750342Z"
    }
   },
   "source": [
    "X_np = np.array(X_list)\n",
    "y_np = np.array(y_list)"
   ],
   "outputs": [],
   "execution_count": 9
  },
  {
   "cell_type": "code",
   "id": "incident-numbers",
   "metadata": {
    "ExecuteTime": {
     "end_time": "2024-10-08T02:38:04.115892Z",
     "start_time": "2024-10-08T02:38:03.986065Z"
    }
   },
   "source": [
    "X_set1 = X_np[vic_idx]\n",
    "y_set1 = y_np[vic_idx]\n",
    "X_set2 = X_np[~vic_idx]\n",
    "y_set2 = y_np[~vic_idx]"
   ],
   "outputs": [],
   "execution_count": 10
  },
  {
   "cell_type": "code",
   "id": "alternative-sixth",
   "metadata": {
    "ExecuteTime": {
     "end_time": "2024-10-08T02:38:12.174941Z",
     "start_time": "2024-10-08T02:38:04.173119Z"
    }
   },
   "source": "pickle.dump(((X_set1, y_set1), (X_set2, y_set2)), open(\"/home/featurize/work/RAI2project/similarity/TinyImagenet_sub_train_split.pkl\", \"wb\"))",
   "outputs": [],
   "execution_count": 11
  },
  {
   "cell_type": "markdown",
   "id": "compatible-barbados",
   "metadata": {},
   "source": [
    "## subset 1 mean and std"
   ]
  },
  {
   "cell_type": "code",
   "id": "personalized-heaven",
   "metadata": {
    "ExecuteTime": {
     "end_time": "2024-10-08T02:38:12.501731Z",
     "start_time": "2024-10-08T02:38:12.225420Z"
    }
   },
   "source": [
    "X_tensor[torch.tensor(vic_idx)].mean(dim=[0,2,3]).numpy()"
   ],
   "outputs": [
    {
     "data": {
      "text/plain": [
       "array([0.480212  , 0.4481674 , 0.39781156], dtype=float32)"
      ]
     },
     "execution_count": 12,
     "metadata": {},
     "output_type": "execute_result"
    }
   ],
   "execution_count": 12
  },
  {
   "cell_type": "code",
   "id": "virtual-withdrawal",
   "metadata": {
    "ExecuteTime": {
     "end_time": "2024-10-08T02:38:13.858166Z",
     "start_time": "2024-10-08T02:38:12.555945Z"
    }
   },
   "source": [
    "X_tensor[torch.tensor(vic_idx)].std(dim=[0,2,3]).numpy()"
   ],
   "outputs": [
    {
     "data": {
      "text/plain": [
       "array([0.2763922 , 0.26874343, 0.28151527], dtype=float32)"
      ]
     },
     "execution_count": 13,
     "metadata": {},
     "output_type": "execute_result"
    }
   ],
   "execution_count": 13
  },
  {
   "cell_type": "markdown",
   "id": "approximate-kazakhstan",
   "metadata": {},
   "source": [
    "## subset 2 mean and std"
   ]
  },
  {
   "cell_type": "code",
   "id": "thick-fellow",
   "metadata": {
    "ExecuteTime": {
     "end_time": "2024-10-08T02:38:14.239949Z",
     "start_time": "2024-10-08T02:38:13.961626Z"
    }
   },
   "source": [
    "X_tensor[~torch.tensor(vic_idx)].mean(dim=[0,2,3]).numpy()"
   ],
   "outputs": [
    {
     "data": {
      "text/plain": [
       "array([0.48034695, 0.44770736, 0.39680204], dtype=float32)"
      ]
     },
     "execution_count": 14,
     "metadata": {},
     "output_type": "execute_result"
    }
   ],
   "execution_count": 14
  },
  {
   "cell_type": "code",
   "id": "recreational-management",
   "metadata": {
    "ExecuteTime": {
     "end_time": "2024-10-08T02:38:15.587923Z",
     "start_time": "2024-10-08T02:38:14.290503Z"
    }
   },
   "source": [
    "X_tensor[~torch.tensor(vic_idx)].std(dim=[0,2,3]).numpy()"
   ],
   "outputs": [
    {
     "data": {
      "text/plain": [
       "array([0.2763423 , 0.26875827, 0.28141335], dtype=float32)"
      ]
     },
     "execution_count": 15,
     "metadata": {},
     "output_type": "execute_result"
    }
   ],
   "execution_count": 15
  },
  {
   "cell_type": "code",
   "id": "familiar-hygiene",
   "metadata": {
    "ExecuteTime": {
     "end_time": "2024-10-08T02:38:15.678461Z",
     "start_time": "2024-10-08T02:38:15.675840Z"
    }
   },
   "source": [],
   "outputs": [],
   "execution_count": null
  }
 ],
 "metadata": {
  "kernelspec": {
   "display_name": "cv",
   "language": "python",
   "name": "python3"
  },
  "language_info": {
   "codemirror_mode": {
    "name": "ipython",
    "version": 3
   },
   "file_extension": ".py",
   "mimetype": "text/x-python",
   "name": "python",
   "nbconvert_exporter": "python",
   "pygments_lexer": "ipython3",
   "version": "3.10.8"
  },
  "vscode": {
   "interpreter": {
    "hash": "5976f27f823bf31765e09b881653048540bb46ca41fc008cadef0af9840eb372"
   }
  }
 },
 "nbformat": 4,
 "nbformat_minor": 5
}
