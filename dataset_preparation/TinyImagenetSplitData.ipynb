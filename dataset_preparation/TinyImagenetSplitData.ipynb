{
 "cells": [
  {
   "cell_type": "code",
   "execution_count": 4,
   "id": "injured-think",
   "metadata": {},
   "outputs": [],
   "source": [
    "import os\n",
    "import numpy as np\n",
    "import torch\n",
    "import torchvision.datasets as datasets\n",
    "import torchvision.transforms as transforms\n",
    "import torch.utils.data as data\n",
    "from PIL import Image\n",
    "import pickle\n",
    "from tqdm import tqdm"
   ]
  },
  {
   "cell_type": "markdown",
   "id": "starting-influence",
   "metadata": {},
   "source": [
    "# Load train data"
   ]
  },
  {
   "cell_type": "code",
   "execution_count": 5,
   "id": "respected-butler",
   "metadata": {},
   "outputs": [],
   "source": [
    "train_dir = 'data/tiny-imagenet-200/train/'\n",
    "train_dataset = datasets.ImageFolder(\n",
    "    train_dir) # \n",
    "train_loader = data.DataLoader(train_dataset, batch_size=128, shuffle=True, num_workers=8)\n",
    "toTensor = transforms.ToTensor()\n",
    "toPIL = transforms.ToPILImage()\n",
    "# print(\"加载训练目录: %s\" % (train_dir))\n",
    "# print(\"加载类别数量 %d\"%len(train_dataset.classes))\n",
    "# print(\"类别 n01443537 映射 index %d\" % train_dataset.class_to_idx['n01443537'])\n",
    "# print(\"图片 %s 映射到 idx %d\" % train_dataset.imgs[0])"
   ]
  },
  {
   "cell_type": "markdown",
   "id": "potential-interpretation",
   "metadata": {},
   "source": [
    "## Process test data"
   ]
  },
  {
   "cell_type": "code",
   "execution_count": 6,
   "id": "classical-graphic",
   "metadata": {},
   "outputs": [],
   "source": [
    "val_imgs = []\n",
    "val_labels = []\n",
    "\n",
    "val_dir = 'data/tiny-imagenet-200/val/'\n",
    "with open(os.path.join(val_dir, 'val_annotations.txt'), \"r\") as f:\n",
    "    val_f_annot = [(s.split('\\t')[0], s.split('\\t')[1]) for s in f.readlines()]\n",
    "    \n",
    "for img_file, class_name in val_f_annot:\n",
    "    img = np.array(Image.open(os.path.join(val_dir, 'images', img_file)))\n",
    "    if len(img.shape) != 3:\n",
    "        img = img.reshape(64, 64, 1).repeat(3, axis=2)\n",
    "    val_imgs.append(img)\n",
    "    val_labels.append(train_dataset.class_to_idx[class_name])\n",
    "# from utils import SubTrainDataset\n",
    "# test_dataset = SubTrainDataset(val_imgs, val_labels, transform=transforms.ToTensor())\n",
    "pickle.dump((val_imgs, val_labels), open(\"data/TinyImagenet_test.pkl\", \"wb\"))"
   ]
  },
  {
   "cell_type": "markdown",
   "id": "second-sellers",
   "metadata": {},
   "source": [
    "## Compute mean and std"
   ]
  },
  {
   "cell_type": "code",
   "execution_count": 8,
   "id": "warming-replica",
   "metadata": {},
   "outputs": [
    {
     "name": "stderr",
     "output_type": "stream",
     "text": [
      "100%|██████████| 100000/100000 [00:18<00:00, 5501.44it/s]\n"
     ]
    }
   ],
   "source": [
    "X_tensor = []\n",
    "for x, y in tqdm(train_dataset):\n",
    "    X_tensor.append(toTensor(x))\n",
    "X_tensor = torch.stack(X_tensor)"
   ]
  },
  {
   "cell_type": "code",
   "execution_count": 9,
   "id": "daily-requirement",
   "metadata": {},
   "outputs": [
    {
     "data": {
      "text/plain": [
       "array([0.48024866, 0.44807237, 0.39754647], dtype=float32)"
      ]
     },
     "execution_count": 9,
     "metadata": {},
     "output_type": "execute_result"
    }
   ],
   "source": [
    "# mean\n",
    "X_tensor.mean(dim=[0, 2, 3]).numpy()"
   ]
  },
  {
   "cell_type": "code",
   "execution_count": 10,
   "id": "bored-bacteria",
   "metadata": {},
   "outputs": [
    {
     "data": {
      "text/plain": [
       "array([0.27698642, 0.2690645 , 0.2820819 ], dtype=float32)"
      ]
     },
     "execution_count": 10,
     "metadata": {},
     "output_type": "execute_result"
    }
   ],
   "source": [
    "# mean\n",
    "X_tensor.std(dim=[0, 2, 3]).numpy()"
   ]
  },
  {
   "cell_type": "code",
   "execution_count": null,
   "id": "satisfactory-backing",
   "metadata": {},
   "outputs": [],
   "source": []
  },
  {
   "cell_type": "markdown",
   "id": "sustained-parts",
   "metadata": {},
   "source": [
    "# Random split train dataset"
   ]
  },
  {
   "cell_type": "code",
   "execution_count": 11,
   "id": "minute-greensboro",
   "metadata": {},
   "outputs": [],
   "source": [
    "np.random.seed(0)\n",
    "vic_idx = np.random.choice(len(train_dataset), len(train_dataset) // 2, replace=False)"
   ]
  },
  {
   "cell_type": "code",
   "execution_count": 12,
   "id": "corresponding-first",
   "metadata": {},
   "outputs": [
    {
     "name": "stderr",
     "output_type": "stream",
     "text": [
      "100%|██████████| 100000/100000 [00:12<00:00, 7852.92it/s]\n"
     ]
    }
   ],
   "source": [
    "X_list = []\n",
    "y_list = []\n",
    "# recover from np.array\n",
    "# from PIL import Image\n",
    "# im = Image.fromarray(X_train_list[0])\n",
    "for x, y in tqdm(train_dataset):\n",
    "    X_list.append(np.array(x))\n",
    "    y_list.append(y)"
   ]
  },
  {
   "cell_type": "code",
   "execution_count": 13,
   "id": "armed-thumbnail",
   "metadata": {},
   "outputs": [],
   "source": [
    "X_np = np.array(X_list)\n",
    "y_np = np.array(y_list)"
   ]
  },
  {
   "cell_type": "code",
   "execution_count": 14,
   "id": "incident-numbers",
   "metadata": {},
   "outputs": [],
   "source": [
    "X_set1 = X_np[vic_idx]\n",
    "y_set1 = y_np[vic_idx]\n",
    "X_set2 = X_np[~vic_idx]\n",
    "y_set2 = y_np[~vic_idx]"
   ]
  },
  {
   "cell_type": "code",
   "execution_count": 15,
   "id": "alternative-sixth",
   "metadata": {},
   "outputs": [],
   "source": [
    "pickle.dump(((X_set1, y_set1), (X_set2, y_set2)), open(\"data/TinyImagenet_sub_train_split.pkl\", \"wb\"))"
   ]
  },
  {
   "cell_type": "markdown",
   "id": "compatible-barbados",
   "metadata": {},
   "source": [
    "## subset 1 mean and std"
   ]
  },
  {
   "cell_type": "code",
   "execution_count": 16,
   "id": "personalized-heaven",
   "metadata": {},
   "outputs": [
    {
     "data": {
      "text/plain": [
       "array([0.4802226 , 0.44817278, 0.39785585], dtype=float32)"
      ]
     },
     "execution_count": 16,
     "metadata": {},
     "output_type": "execute_result"
    }
   ],
   "source": [
    "X_tensor[torch.tensor(vic_idx)].mean(dim=[0,2,3]).numpy()"
   ]
  },
  {
   "cell_type": "code",
   "execution_count": 17,
   "id": "virtual-withdrawal",
   "metadata": {},
   "outputs": [
    {
     "data": {
      "text/plain": [
       "array([0.2769446 , 0.26894435, 0.28200737], dtype=float32)"
      ]
     },
     "execution_count": 17,
     "metadata": {},
     "output_type": "execute_result"
    }
   ],
   "source": [
    "X_tensor[torch.tensor(vic_idx)].std(dim=[0,2,3]).numpy()"
   ]
  },
  {
   "cell_type": "markdown",
   "id": "approximate-kazakhstan",
   "metadata": {},
   "source": [
    "## subset 2 mean and std"
   ]
  },
  {
   "cell_type": "code",
   "execution_count": 18,
   "id": "thick-fellow",
   "metadata": {},
   "outputs": [
    {
     "data": {
      "text/plain": [
       "array([0.4803542 , 0.4477138 , 0.39684433], dtype=float32)"
      ]
     },
     "execution_count": 18,
     "metadata": {},
     "output_type": "execute_result"
    }
   ],
   "source": [
    "X_tensor[~torch.tensor(vic_idx)].mean(dim=[0,2,3]).numpy()"
   ]
  },
  {
   "cell_type": "code",
   "execution_count": 19,
   "id": "recreational-management",
   "metadata": {},
   "outputs": [
    {
     "data": {
      "text/plain": [
       "array([0.27689543, 0.26896143, 0.28190473], dtype=float32)"
      ]
     },
     "execution_count": 19,
     "metadata": {},
     "output_type": "execute_result"
    }
   ],
   "source": [
    "X_tensor[~torch.tensor(vic_idx)].std(dim=[0,2,3]).numpy()"
   ]
  },
  {
   "cell_type": "code",
   "execution_count": null,
   "id": "familiar-hygiene",
   "metadata": {},
   "outputs": [],
   "source": []
  }
 ],
 "metadata": {
  "kernelspec": {
   "display_name": "cv",
   "language": "python",
   "name": "python3"
  },
  "language_info": {
   "codemirror_mode": {
    "name": "ipython",
    "version": 3
   },
   "file_extension": ".py",
   "mimetype": "text/x-python",
   "name": "python",
   "nbconvert_exporter": "python",
   "pygments_lexer": "ipython3",
   "version": "3.10.8"
  },
  "vscode": {
   "interpreter": {
    "hash": "5976f27f823bf31765e09b881653048540bb46ca41fc008cadef0af9840eb372"
   }
  }
 },
 "nbformat": 4,
 "nbformat_minor": 5
}
