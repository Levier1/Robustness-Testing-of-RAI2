{
 "cells": [
  {
   "cell_type": "code",
   "execution_count": 1,
   "id": "adopted-submission",
   "metadata": {},
   "outputs": [],
   "source": [
    "import os\n",
    "import numpy as np\n",
    "import torch\n",
    "import torch.nn as nn\n",
    "import torchvision\n",
    "from tqdm import tqdm\n",
    "import pickle\n",
    "np.random.seed(0)"
   ]
  },
  {
   "cell_type": "markdown",
   "id": "correct-brief",
   "metadata": {},
   "source": [
    "# Generate similar dataset (CIFAR10/100, TinyImagenet)"
   ]
  },
  {
   "cell_type": "code",
   "execution_count": 53,
   "id": "worse-colleague",
   "metadata": {},
   "outputs": [
    {
     "name": "stdout",
     "output_type": "stream",
     "text": [
      "Data stored in ./TinyImagenet\n",
      "100%|██████████| 100000/100000 [00:12<00:00, 8047.06it/s]\n",
      "[ 3582 60498 53227 ... 42613 43567 68268]\n",
      "0 50000\n",
      "\n"
     ]
    }
   ],
   "source": [
    "dataset = \"TinyImagenet\"\n",
    "data_dir = os.path.join(\"./\", dataset)\n",
    "print('Data stored in %s' % data_dir)\n",
    "if dataset == \"CIFAR10\":\n",
    "    trainset = torchvision.datasets.CIFAR10(root=data_dir, train=True, download=True, transform=None)\n",
    "elif dataset == \"CIFAR100\":\n",
    "    trainset = torchvision.datasets.CIFAR100(root=data_dir, train=True, download=True, transform=None)\n",
    "else:\n",
    "    trainset = torchvision.datasets.ImageFolder('tiny-imagenet-200/train/') # \n",
    "# Load train set\n",
    "X_list = []\n",
    "y_list = []\n",
    "# recover from np.array\n",
    "# from PIL import Image\n",
    "# im = Image.fromarray(X_train_list[0])\n",
    "for data in tqdm(trainset):\n",
    "    x, y = data\n",
    "    X_list.append(np.array(x))\n",
    "    y_list.append(y)\n",
    "\n",
    "# get victim sub-dataset and attacker sub-dataet \n",
    "vic_num = len(trainset) // 2\n",
    "# np.random.seed(0)\n",
    "# vic_idx = np.random.choice(len(trainset), vic_num, replace=False) \n",
    "# equal to np.random.shuffle() and then [:vic_num], therefore the vic_idx here is the same as previous one\n",
    "# print(vic_idx) \n",
    "np.random.seed(0)\n",
    "train_idx_array = np.arange(len(trainset))\n",
    "np.random.shuffle(train_idx_array)\n",
    "vic_idx = train_idx_array[:vic_num]\n",
    "\n",
    "intersect_proportion = 1.0\n",
    "shift = int(intersect_proportion * vic_num)\n",
    "start_att_idx = vic_num - shift\n",
    "att_idx = train_idx_array[start_att_idx: start_att_idx + vic_num]\n",
    "print()\n",
    "print(train_idx_array)\n",
    "print(start_att_idx, start_att_idx + vic_num)"
   ]
  },
  {
   "cell_type": "markdown",
   "id": "a044aeb3",
   "metadata": {},
   "source": [
    "the index should be \n",
    "\n",
    "CIFAR100: 11841 19602 45519 ... 42613 43567  2732\n",
    "\n",
    "TinyImagenet: 3582 60498 53227 ... 42613 43567 68268\n"
   ]
  },
  {
   "cell_type": "code",
   "execution_count": 54,
   "id": "tough-national",
   "metadata": {},
   "outputs": [],
   "source": [
    "X_np = np.array(X_list)\n",
    "y_np = np.array(y_list)"
   ]
  },
  {
   "cell_type": "code",
   "execution_count": 55,
   "id": "knowing-frame",
   "metadata": {},
   "outputs": [],
   "source": [
    "X_set1 = X_np[vic_idx]\n",
    "y_set1 = y_np[vic_idx]\n",
    "X_set2 = X_np[att_idx]\n",
    "y_set2 = y_np[att_idx]"
   ]
  },
  {
   "cell_type": "code",
   "execution_count": 56,
   "id": "assigned-adventure",
   "metadata": {},
   "outputs": [],
   "source": [
    "pickle.dump(((X_set1, y_set1), (X_set2, y_set2)), open(\"./similarity/{}_intersect_{}.pkl\".format(dataset, intersect_proportion), \"wb\"))\n",
    "# tuple((X_set1 / 255).mean(axis=(0, 1, 2)))\n",
    "# (X_set1 / 255).std(axis=(0, 1, 2))"
   ]
  },
  {
   "cell_type": "code",
   "execution_count": null,
   "id": "50e65cfc",
   "metadata": {},
   "outputs": [],
   "source": []
  }
 ],
 "metadata": {
  "kernelspec": {
   "display_name": "cv",
   "language": "python",
   "name": "python3"
  },
  "language_info": {
   "codemirror_mode": {
    "name": "ipython",
    "version": 3
   },
   "file_extension": ".py",
   "mimetype": "text/x-python",
   "name": "python",
   "nbconvert_exporter": "python",
   "pygments_lexer": "ipython3",
   "version": "3.10.8"
  },
  "vscode": {
   "interpreter": {
    "hash": "5976f27f823bf31765e09b881653048540bb46ca41fc008cadef0af9840eb372"
   }
  }
 },
 "nbformat": 4,
 "nbformat_minor": 5
}
